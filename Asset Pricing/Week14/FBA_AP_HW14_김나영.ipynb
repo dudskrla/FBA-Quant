{
  "cells": [
    {
      "cell_type": "markdown",
      "metadata": {},
      "source": [
        "# [HW14] FBA QUANT - ASSET PRICING"
      ]
    },
    {
      "cell_type": "markdown",
      "metadata": {},
      "source": [
        "Kim Na Young (dudskrla09@gmail.com)"
      ]
    },
    {
      "cell_type": "markdown",
      "metadata": {},
      "source": [
        "---"
      ]
    },
    {
      "cell_type": "markdown",
      "metadata": {},
      "source": [
        "# Assignment 3: Solve the following problems"
      ]
    },
    {
      "cell_type": "markdown",
      "metadata": {},
      "source": [
        "### Problem 1. (N risky Assets + one risk-free Asset) \n",
        "There are N risky assets with returns $ R=(R_1,…,R_N )^T $ and the risk-free asset with risk-free rate $ μ_f $.\n",
        "The expected return and the variance-covariance are denoted by\n",
        "$$ E[R]=μ=[μ_1,…,μ_n ]^T $$\n",
        "$$ Cov(R)=Σ=[σ_{i,j} ]_{N×N} $$ \n",
        "\n",
        "Let $ w=[w_1,…,w_N ]^T $ be the weights of the risky assets in the portfolio. The weight of the risk-free asset is $ w_0=1-w1_n (1_n=[1,1,…,1]^T) $ \n",
        "Solve the following sub-problems.\n",
        "\n",
        "1) Using the Lagrange Multiplier Methods, Find the optimal weights of portfolio under given the target expected return $ μ_0 $\n",
        "2) Find the weight vector of the Tangency Portfolio.\n",
        "3) Find the variance of the optimal portfolio.\n",
        "4) Use the risk-aversion parameter to indicate the weight of the optimal portfolio. (Definition of risk aversion parameter  $ λ=\\frac{μ-r_f}{σ^2} $ )\n",
        "5) Show that under a given constraint, all optimal portfolios have the same Sharpe Ratio and that all optimal portfolios are above the CAL of the Tangency portfolio.\n"
      ]
    },
    {
      "cell_type": "markdown",
      "metadata": {},
      "source": [
        "### Solution 1."
      ]
    },
    {
      "cell_type": "markdown",
      "metadata": {},
      "source": [
        "### **1) Using the Lagrange Multiplier Methods, Find the optimal weights of portfolio under given the target expected return $ μ_0 $**\n",
        "\n",
        "**Constraints:**\n",
        "- 1. $ w_1 \\mu_1+w_2 \\mu_2=\\mu_0 $ \n",
        "- 2. $ w_0+w=1 $ \n",
        "\n",
        "**Step1. Lagrange Function under the given rate $ \\mu_0 $** \n",
        "$$ L = \\frac{1}{2}w^Twσ - λ_1(w^Tμ-μ_0) - λ_2(w^t1_N-1) $$\n",
        "$$ L = \\frac{1}{2}w^Tw∑ - λ_1(w^Tμ-μ_0) - λ_2(w^t1_N-1) \\quad (∵ Cov(R) = ∑) $$\n",
        "\n",
        "**Step2.  Find the Optimal weights written by lambda after Partial Differentiation**\n",
        "$$ \\frac{∂L}{∂w}=0 → optimal \\; weights \\; w^*  (function \\; of  \\; λ_1,λ_2) $$\n",
        "\n",
        "$$ \\frac{∂L}{∂w} = w∑ - λ_1μ - λ_21_N = 0 $$\n",
        "$$ ∴ (1) \\; w^* = {∑}^{-1}(λ_1μ + λ_21_N) $$\n",
        "\n",
        "**Step3. Apply Optimal weight $ w^* $ obtained in the Step2 to constraint formula, and then find the analytical solution of $ w^* $** \n",
        "\n",
        "Constraints:\n",
        "- (1) $ w^Tμ = μ^Tw = μ_0 $ \n",
        "- (2) $ w^T1_N = {1_N}^Tw = 1 $\n",
        "\n",
        "$$ (2) \\; μ^T{{∑}^{-1}(λ_1μ + λ_21_N)} = (μ^T{∑}^{-1}μ)λ_1 + (μ^T{∑}^{-1}1_N)λ_2 = μ_0 $$ \n",
        "$$ = Aλ_1 + Bλ_2$$ \n",
        "$$ (3) \\; {{1_N}^T}{{∑}^{-1}(λ_1μ + λ_21_N)} = ({1_N}^T{∑}^{-1}μ)λ_1 + ({1_N}^T{∑}^{-1}1_N)λ_2 $$ \n",
        "$$ = Bλ_1 + Cλ_2$$ \n",
        "$$ where \\; A = μ^T{∑}^{-1}μ, B = μ^T{∑}^{-1}1_N, C = {1_N}^T{∑}^{-1}1_N  $$ \n",
        "\n",
        "Using (2) and (3)\n",
        "$$ ∴ \\; \\begin{pmatrix} μ_0 \\\\ 1 \\end{pmatrix} = \\begin{pmatrix} A & B \\\\ B & C \\end{pmatrix} \\begin{pmatrix}  λ_1 \\\\ λ_2 \\end{pmatrix}$$\n",
        "\n",
        "$$ ∴ (4) \\; \\begin{pmatrix}  λ_1^* \\\\ λ_2^* \\end{pmatrix} = {\\begin{pmatrix} A & B \\\\ B & C \\end{pmatrix}}^{-1} \\begin{pmatrix} μ_0 \\\\ 1 \\end{pmatrix}   $$ \n",
        "\n",
        "$$ ∴ (1*) \\; w^* = {∑}^{-1}(λ_1μ + λ_21_N) \n",
        "= {∑}^{-1} \\begin{pmatrix} μ_1 & 1 \\\\ μ_2 & 1 \\\\ \\cdots & \\cdots \\\\ μ_n & 1 \\end{pmatrix} \\begin{pmatrix}  λ_1^* \\\\ λ_2^* \\end{pmatrix} $$\n",
        "$$ = {∑}^{-1} \\begin{pmatrix} μ_1 & 1 \\\\ μ_2 & 1 \\\\ \\cdots & \\cdots \\\\ μ_n & 1 \\end{pmatrix} {\\begin{pmatrix} A & B \\\\ B & C \\end{pmatrix}}^{-1} \\begin{pmatrix} μ_0 \\\\ 1 \\end{pmatrix} $$ \n",
        "$$ = {∑}^{-1} \\begin{pmatrix} μ_1 & 1 \\\\ μ_2 & 1 \\\\ \\cdots & \\cdots \\\\ μ_n & 1 \\end{pmatrix} \n",
        "\n",
        "( \\frac{1}{AC-B^2} {\\begin{pmatrix} C & -B \\\\ -B & A \\end{pmatrix}} )\n",
        "\n",
        "\\begin{pmatrix} μ_0 \\\\ 1 \\end{pmatrix}  $$ \n",
        "\n",
        "$$ =  {∑}^{-1}\n",
        "(\\frac{(Cμ_1-B)μ_0 + (-Bμ_1+A)1_N}{AC-B^2})\n",
        " $$ "
      ]
    },
    {
      "cell_type": "markdown",
      "metadata": {},
      "source": [
        "### **2) Find the weight vector of the Tangency Portfolio.**\n",
        "\n",
        "We denote the angle between that line and the horizontal axis by θ. The tangent portfolio is the feasible point that maximizes θ or, equivalently, maximize tanθ.\n",
        "$$ tanθ = \\frac{\\bar{r}_p - r_f}{\\sigma_p} = \\frac{\\sum_{i=1}^n w_i (\\bar{r}_i-r_f)}{(\\sum_{i,j=1}^n \\sigma_{i,j} w_i w_j)^{\\frac{1}{2}}} \\quad - \\; (1) $$\n",
        "\n",
        "$$ \\frac{dtanθ}{dw} = 0 → \\sum_{i=1}^n \\sigma_{ki} λ w_i = \\bar{r}_k - r_f \\; (k=1, 2, ..., n) \\quad \\; (where \\; λ \\; is \\; constant) \\; - (2) $$\n",
        "\n",
        "\n",
        "Let, $ v_i = λ w_i $, and then normalize to determine the $ w_i $'s later.\n",
        "$$ \\sum_{i=1}^n \\sigma_{ki} v_i = \\bar{r}_k - r_f \\; (k=1, 2, ..., n) $$\n",
        "$$ and \\quad w_i = \\frac{v_i}{\\sum_{k=1}^n v_k} $$"
      ]
    },
    {
      "cell_type": "markdown",
      "metadata": {},
      "source": [
        "### **3) Find the variance of the optimal portfolio.**\n",
        "\n",
        "Using (1*),\n",
        "$$ \\sigma_P^2 = w^T∑w = \\frac{1}{(AC-B^2)^2} ((Cμ_1-B)μ_0 + (-Bμ_1+A)1_N)^T ∑ ((Cμ_1-B)μ_0 + (-Bμ_1+A)1_N) $$ \n",
        "$$ where \\; A = μ^T{∑}^{-1}μ, B = μ^T{∑}^{-1}1_N, C = {1_N}^T{∑}^{-1}1_N  $$ "
      ]
    },
    {
      "cell_type": "markdown",
      "metadata": {},
      "source": [
        "### **4) Use the risk-aversion parameter to indicate the weight of the optimal portfolio. (Definition of risk aversion parameter  $ λ=\\frac{μ-r_f}{σ^2} $ )**\n",
        "\n",
        "$$ λ=\\frac{μ-r_f}{σ^2} = \\frac{w^Tμ - r_f}{w^T\\sum w} $$ "
      ]
    },
    {
      "cell_type": "markdown",
      "metadata": {},
      "source": [
        "### **5) Show that under a given constraint, all optimal portfolios have the same Sharpe Ratio and that all optimal portfolios are above the CAL of the Tangency portfolio.**\n",
        "\n",
        "$$ Sharpe \\; ratio = \\frac{\\mu_P - \\mu_f}{\\sigma_P} $$  \n",
        "$$ \\frac{\\mu_P - \\mu_f}{\\sqrt{\\frac{1}{(AC-B^2)^2} ((Cμ_1-B)μ_0 + (-Bμ_1+A)1_N)^T ∑ ((Cμ_1-B)μ_0 + (-Bμ_1+A)1_N)}} \\; is \\; constant $$\n",
        "∴ All optimal portfolios have the same Sharpe Ratio\n",
        "\n",
        "$$ CAL = \\bar{r} = \\frac{\\mu_P - \\mu_f}{\\sigma_P}\\sigma + r_f$$\n",
        "- slope : Sharpe ratio is constant\n",
        "- intercept : risk free rate is fixed (constant)            \n",
        "∴ All optimal portfolios are above the CAL of the Tangency portfolio"
      ]
    },
    {
      "cell_type": "markdown",
      "metadata": {},
      "source": [
        "---"
      ]
    },
    {
      "cell_type": "markdown",
      "metadata": {},
      "source": [
        "### Problem 2. \n",
        "Explain that Tangency Portfolio becomes Market Portfolio under the assumption of CAPM, and show that CAL of Tangency Portfolio becomes CML (Capital Market Line)."
      ]
    },
    {
      "cell_type": "markdown",
      "metadata": {},
      "source": [
        "### Solution 2. "
      ]
    },
    {
      "cell_type": "markdown",
      "metadata": {},
      "source": [
        "Everyone follows the mean-variance methodology with the same estimates of parameters, we know that the efficient fund of risky assets will be the market portfolio. In the idealized world, where every investor is a mean-variance investor and all have the same estimates, everyone buys the same portfolio, and that must be equal to the market portfolio. In other words, prices adjust to drive the market to efficiency. Then after other people have made the adjustments, we can be sure that the efficient portfolio is the market portfolio, so we need not make any calculations.\n",
        "\n",
        "\n",
        "$$ Let, \\; r_P = wr_f + (1-w) r_M $$\n",
        "$$ E(r_P) = E[wr_f] + E[(1-w) r_M] = wr_f + (1-w)E(r_M) \\quad - \\; (1) $$\n",
        "$$ \\sigma_P = (1-w)\\sigma_M \\quad - \\; (2) $$\n",
        "\n",
        "Using (1) and (2),\n",
        "$$ E(r_P) = \\frac{E(r_M)-r_f}{\\sigma_M}\\sigma_P + r_f $$\n",
        "\n",
        "$ E(r_P) = \\bar{r} $ (in CML) and $ \\frac{E(r_M)-r_f}{\\sigma_M} $ is Sharp ratio (in CAL)             \n",
        "∴ CAL of Tangency Portfolio becomes CML (Capital Market Line)."
      ]
    },
    {
      "cell_type": "markdown",
      "metadata": {},
      "source": [
        "---"
      ]
    },
    {
      "cell_type": "markdown",
      "metadata": {},
      "source": [
        "### Problem 3. \n",
        "1) Follow the proof on page 184 of the textbook to induce the formula of CAPM.\n",
        "2) Derive the CAPM formula for $ \\bar{r}_k-r_f $ by using Equation (6.9) in Chapter 6 of the Text book. Hint: Note that $ ∑_{i=1}^n σ_{ik} w_i=cov(r_k,r_M) $ Apply equation (6.9) both to asset k and to the market itself.\n"
      ]
    },
    {
      "cell_type": "markdown",
      "metadata": {},
      "source": [
        "### Solution 3."
      ]
    },
    {
      "cell_type": "markdown",
      "metadata": {},
      "source": [
        "**1) Follow the proof on page 184 of the textbook to induce the formula of CAPM.**\n",
        "\n",
        "$$ \\bar{r}_α = α\\bar{r}_i + (1-α)\\bar{r}_M $$\n",
        "$$ \\sigma_α = [α^2\\sigma_i^2 + 2α(1-α)\\sigma_{iM}+(1-α)^2\\sigma_M^2]^{1/2}$$\n",
        "\n",
        "$$ \\frac{d\\bar{r}_α}{dα} = \\bar{r}_i - \\bar{r}_M $$\n",
        "$$ \\frac{d\\sigma_α}{dα} = \\frac{α\\sigma_i^2 + (1-2α)\\sigma_{iM}+(a-1)\\sigma_M^2}{\\sigma_α}  $$\n",
        "\n",
        "$$ {\\frac{d\\bar{r}_α}{d\\sigma_α}}|_{α=0} = \\frac{(\\bar{r}_i-\\bar{r}_M)\\sigma_M}{\\sigma_{iM}-\\sigma_M^2} $$\n",
        "\n",
        "$$ ∴ \\;  \\frac{(\\bar{r}_i-\\bar{r}_M)\\sigma_M}{\\sigma_{iM}-\\sigma_M^2} = \\frac{\\bar{r}_M-r_f}{\\sigma_M} $$"
      ]
    }
  ],
  "metadata": {
    "kernelspec": {
      "display_name": "fba",
      "language": "python",
      "name": "python3"
    },
    "language_info": {
      "codemirror_mode": {
        "name": "ipython",
        "version": 3
      },
      "file_extension": ".py",
      "mimetype": "text/x-python",
      "name": "python",
      "nbconvert_exporter": "python",
      "pygments_lexer": "ipython3",
      "version": "3.7.16"
    },
    "orig_nbformat": 4
  },
  "nbformat": 4,
  "nbformat_minor": 2
}
