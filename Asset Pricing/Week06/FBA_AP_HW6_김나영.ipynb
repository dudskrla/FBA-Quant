{
  "cells": [
    {
      "cell_type": "markdown",
      "metadata": {},
      "source": [
        "# [HW6] FBA QUANT - ASSET PRICING"
      ]
    },
    {
      "cell_type": "markdown",
      "metadata": {},
      "source": [
        "Kim Na Young (dudskrla09@gmail.com)"
      ]
    },
    {
      "cell_type": "markdown",
      "metadata": {},
      "source": [
        "---"
      ]
    },
    {
      "cell_type": "markdown",
      "metadata": {},
      "source": [
        "# Assignment 1: Summary"
      ]
    },
    {
      "cell_type": "markdown",
      "metadata": {},
      "source": [
        "### Week9. Shareholders' Equity"
      ]
    },
    {
      "cell_type": "markdown",
      "metadata": {},
      "source": [
        "> Shareholders' Equity\n",
        "\n",
        "Shareholders' equity is what remains of a company's assets after paying off its liabilities.\n",
        "\n",
        "$$ Shareholders' \\; Equity = Assets - Liabilities $$ \n",
        "\n",
        "> Sources of Shareholders' Equity\n",
        "\n",
        "- Share Issuance: through common or preferred stock.\n",
        "- Operations: through retained earnings and accumulated other comprehensive income (AOCI).\n",
        "\n",
        "> Preferred Stock\n",
        "\n",
        "- fixed dividends \n",
        "- no voting rights\n",
        "\n",
        "> Common Stock\n",
        "\n",
        "- voting rights \n",
        "- the lowest claim on assets in bankruptcy (debt > preferred stock > common stock)\n",
        "\n",
        "> Share Repurchases\n",
        "\n",
        "Companies buy back their own shares, recorded as Treasury Stock.\n",
        "\n",
        "> Reasons for Share Repurchases\n",
        "\n",
        "- excess cash\n",
        "- undervalued stock\n",
        "- employee stock options\n",
        "- adjusting leverage\n",
        "\n",
        "\n",
        "> Cash Dividends\n",
        "\n",
        "Paid to shareholders of record on specific dates.          \n",
        "(1) Declaration date         \n",
        "(2) Date or record        \n",
        "(3) Payment date       \n",
        "\n",
        "> Stock Dividends\n",
        "\n",
        "Distributing additional shares to existing shareholders.           \n",
        "-> Each stockholder's percentage ownership of the company will be identical to what it was before the stock dividend\n",
        "\n",
        "> Stock Splits\n",
        "\n",
        "Replacing existing shares with more shares to adjust stock price.          \n",
        "ex. shares authorized * 2            \n",
        "ex. shares outstanding * 2                       \n",
        "ex. par value * (1/2)\n",
        "\n",
        "> Accumulated Other Comprehensive Income (AOCI)\n",
        "\n",
        "Records unrealized gains/losses not in income statement.     \n",
        "(1) Unrealized Gains/Losses on Marketable Securities       \n",
        "(2) Foreign Currency Translation Adjustments       \n",
        "(3) Pensions        \n",
        "(4) Derivates          \n",
        "\n",
        "> Statement of Shareholders' Equity\n",
        "\n",
        "Reports changes in stockholders' equity accounts.             \n",
        "ex. Common stock, APIC, Treasury stock, AOCI, Retained Earnings \n",
        "\n",
        "> Stock-Based Compensation Types\n",
        "\n",
        "- Restricted stock       \n",
        "    - shares of stock\n",
        "- Stock options\n",
        "    - the right to purchase a number of shares at a fixed price        \n",
        "\n",
        "Companies must recognize stock-based compensation as an expense.\n",
        "\n",
        "> Vesting Period\n",
        "\n",
        "Employees can't sell or exercise these incentives until a certain period passes.\n",
        "\n",
        "\n",
        "> Earnings Per Share (EPS)\n",
        "\n",
        "Measures earnings generated for each common share.\n",
        "- Basic EPS     \n",
        "    $$ Basic \\; EPS = \\frac{Net\\; Income \\; – \\; Preferred \\; Dividends}{Weighted \\; average \\; number \\; of \\; common \\; shares \\; outstanding} $$ \n",
        "- Diluted EPS     \n",
        "ex. Convertible debt, stock options, warrants                         \n",
        "    $$ Diluted \\; EPS = \\frac{Net\\; Income \\; – \\; Preferred \\; Dividends \\; + \\; Adj. \\; for \\; convertibles}{Weighted \\; average \\; number \\; of \\; common \\; shares \\; outstanding \\; + \\; Adj. \\; for \\; convertibles} $$ \n"
      ]
    },
    {
      "cell_type": "markdown",
      "metadata": {},
      "source": [
        "### Week10. Financial Statement Analysis"
      ]
    },
    {
      "cell_type": "markdown",
      "metadata": {},
      "source": [
        "> Objectives \n",
        "\n",
        "- Past performance \n",
        "    - how has company fared in recent industry and market conditions?\n",
        "    - how effective is the management and their strategy?\n",
        "- Future performance\n",
        "    - what is the true value of the company?\n",
        "    - can the company meet its future debt obligations?\n",
        "\n",
        "> Roadmap\n",
        "\n",
        "- What is the company's business, strategy, and competitive environment?   \n",
        "- Is the company growing?\n",
        "- What was the company's performance this year?\n",
        "- Is the company investing for the future?\n",
        "- What are its debt obligations?\n",
        "- Are these significant off balance sheet items?\n",
        "\n",
        "> What is the company's business, strategy, and competitive environment?   \n",
        "\n",
        "- Business segment\n",
        "- Product lines\n",
        "- Geographic locations\n",
        "- Customers\n",
        "- Competition\n",
        "- Drivers of success\n",
        "- Risk factors \n",
        "\n",
        ">  Is the company growing?\n",
        "\n",
        "- Measuring growth \n",
        "    - Growth is commonly measured using revenue\n",
        "    $$ Growth = \\frac{Current \\; year \\; - \\; Prior \\; year}{Prior \\; year} $$\n",
        "- Identifying sources of growth \n",
        "    - segment analysis\n",
        "    - unit growth VS. sales price growth \n",
        "    - organic growth VS. acquisitions growth  \n",
        "\n",
        "> What was the company's performance this year?\n",
        "\n",
        "- Earnings \n",
        "    - Operating income / Net income / EBITDA\n",
        "        $$ Operating \\; income = Revenues - Expenses $$\n",
        "        $$ Net \\; income = Revenues - Expenses - Net \\; interest \\; expense - Discountinued \\; operation \\; earnings $$\n",
        "    - Margin Analysis \n",
        "        - Common-size income statement : divide everything by revenue\n",
        "        - Useful in forecasting financial statements for future periods\n",
        "    - Earnings Persistence\n",
        "        - Which items/margins will persist into next year?\n",
        "        - MD&A section provides insights into what factors might persist or change in the future.\n",
        "    - Adjust for any unusual items this year \n",
        "        - COGS\n",
        "        - SG&A\n",
        "    - Any changes in borrowing/rates?\n",
        "        - Interest expense\n",
        "    - Earnings VS. Cash flow\n",
        "        - Earnings \n",
        "            - better predictor of future cash flows\n",
        "            - Did the company earn enough revenue to cover all costs of running the business?\n",
        "        - Cash flow \n",
        "            - objective measure of activity \n",
        "            - Did the company collect more cash than it paid out during the period?\n",
        "- DuPont analysis  \n",
        "![Alt text](image.png)\n",
        "- Allowance for Uncollectibles\n",
        "    - Balance Sheet\n",
        "        $$ \\frac{Allowance}{Gross \\; Accounts \\; Receivable} $$\n",
        "    - Income Statement\n",
        "        $$ \\frac{Bad \\; Debt \\; Expense}{Net \\; Sales} $$\n",
        "\n",
        "> Is the company investing for the future?\n",
        "\n",
        "- Common-size Balance Sheet\n",
        "    - express all numbers as a percent of Total Assets \n",
        "- What are the trends in investment?\n",
        "    - working capital \n",
        "    - long-term assets \n",
        "- Trend in recent investment\n",
        "    - Csah flows from Investing Activities\n",
        "- Are there large intangible assets that are not on the balance sheet?\n",
        "\n",
        "\n",
        "\n",
        "> What are its debt obligations?\n",
        "\n",
        "- Trend in issuances and repayments\n",
        "    - Cash flow from Financing Activities \n",
        "- Debt Ratios\n",
        "    - Short-term liquidity\n",
        "        - Does the company have enough liquid assets to cover current obligations?\n",
        "        $$ Current \\; Ratio = \\frac{Current \\; Assets }{Current \\; Liabilities} $$\n",
        "        $$ Quick \\; Ratio = \\frac{Cash + Receivables}{Current \\; Liabilities} $$\n",
        "    - Long-term leverage (= capitalization ratios, leverage ratios)\n",
        "        $$ Long-term \\; Debt \\; to \\; equity = \\frac{Long \\; Term \\; Debt}{Shareholders' \\; equity} $$\n",
        "- Future debt servicing requirements\n",
        "    - Debt ratings\n",
        "    - Upcoming principal and interest payments\n",
        "    - Interest coverage ratios\n",
        "        $$ Interest \\; Coverage = \\frac{Operating \\; Earnings}{Interest \\; Expense} $$\n",
        "\n",
        "\n",
        "> Are these significant off balance sheet items?\n",
        "\n",
        "- Operating Leases\n",
        "- Pension Plans\n",
        "- Contigent Liabilities \n",
        "    - Commitments\n",
        "    - Lawsuits\n",
        "    - Guarantees \n",
        "- Variable Interest Entities"
      ]
    },
    {
      "cell_type": "markdown",
      "metadata": {},
      "source": [
        "---"
      ]
    },
    {
      "cell_type": "markdown",
      "metadata": {},
      "source": [
        "# Assignment 2: Making Problems"
      ]
    },
    {
      "cell_type": "markdown",
      "metadata": {},
      "source": [
        "## Problem 1."
      ]
    },
    {
      "cell_type": "markdown",
      "metadata": {},
      "source": [
        "A company has 360,000 shares authorized, 120,000 shares issued, and 80,000 shares outstanding. It declares cash dividends of $1 per share. How much cash will the company pay for dividends?"
      ]
    },
    {
      "cell_type": "markdown",
      "metadata": {},
      "source": [
        "## Problem 2."
      ]
    },
    {
      "cell_type": "markdown",
      "metadata": {},
      "source": [
        "For the year ended 12/31/2013, a company reported Net Income fo $50,000. On 1/1/2013, the company had 10,000 common shares outstanding and 10,000 preferred shares outstanding. The company issued 4,000 common shares on 9/30/2013; thus common shares outstanding was 14,000 for the last three months of 2013. The company paid $1,000 of preferred dividends and $6,000 of common dividends during 2013.     \n",
        "\n",
        "What is the company's Basic EPS for 2013?"
      ]
    },
    {
      "cell_type": "markdown",
      "metadata": {},
      "source": [
        "## Problem 3."
      ]
    },
    {
      "cell_type": "markdown",
      "metadata": {},
      "source": [
        "For the year ended 12/31/2013, Anonymous Corp. reported Net Income of $100,000, including $10,000 of Interest Expense on convertible debt. Anonymous had 10,000 common shares outstanding throughout 2013. Anonymous paid $4,000 of preferred dividends during 2013. Anonymous' convertible debt is convertible into 2,000 shares of common stock. Anonymous is a US company with a 35% Federal Statutory Tax Rate.         \n",
        "\n",
        "What is Anonymous Corp.'s Diluted EPS for fiscal year 2013?"
      ]
    },
    {
      "cell_type": "markdown",
      "metadata": {},
      "source": [
        "## Solution 1."
      ]
    },
    {
      "cell_type": "markdown",
      "metadata": {},
      "source": [
        "### \\# Shareholders' Equity \\# Dividends \\# Shares Outstanding\n",
        "\n",
        "- Shares authorized : 360,000\n",
        "- Shares issued : 120,000\n",
        "- Shares outstanding : 80,000\n",
        "- Cash dividends : $1 per share \n",
        "\n",
        "Dividends are based on shares outstanding\n",
        "\n",
        "$$ Dividends \\; paybable = Shares \\; outstanding * Cash \\; Dividend \\; percentage $$\n",
        "$$ = 80,000 * \\$1 = \\$80,000 $$ \n"
      ]
    },
    {
      "cell_type": "markdown",
      "metadata": {},
      "source": [
        "## Solution 2."
      ]
    },
    {
      "cell_type": "markdown",
      "metadata": {},
      "source": [
        "### \\# Earnings Per Share (EPS) \\# Basic EPS\n",
        "\n",
        "- Net income (on 12/31/2013) : $50,000\n",
        "- Shares outstanding for common stock (on 1/1/2013) : 10,000\n",
        "- Shares issued for common stock (on 9/30/2013) : 4,000\n",
        "- Dividends \n",
        "    - for preferred stock : $1,000\n",
        "    - for common stock : $6,000 \n",
        "\n",
        "Weight of common shares outstanding  \n",
        "    - start from 1/1/2013 ~ to 12/31/2013 : 1      \n",
        "    - start from 9/30/2013 ~ to 12/31/2013 : $ \\frac{1}{4} $     \n",
        "\n",
        "$$ Basic \\; EPS = \\frac{Net \\; Income - Preferred \\; Dividends }{Weighted \\; average \\; number \\; of \\; common \\; shares \\; outstanding} $$\n",
        "$$ = \\frac{\\$50,000 - \\$1,000}{10,000 + 4,000 * \\frac{1}{4}} = \\frac{\\$49,000}{11,000} ≈ \\$4.45454545455 $$ "
      ]
    },
    {
      "cell_type": "markdown",
      "metadata": {},
      "source": [
        "## Solution 3."
      ]
    },
    {
      "cell_type": "markdown",
      "metadata": {},
      "source": [
        "- Net income (on 12/31/2013) : $100,000\n",
        "- Interest Expense (on 12/31/2013) : $10,000 \n",
        "- Shares outstanding for common stock : 10,000\n",
        "- Dividends \n",
        "    - for preferred stock : $4,000\n",
        "- The number of shares for convertible debt : 2,000 \n",
        "- Statutory tax rate : 0.35\n",
        "\n",
        "$$ Diluted \\; EPS = \\frac{Net \\; Income - Preferred \\; Dividends + Adjusted \\; for \\; convertibles }{Weighted \\; average \\; number \\; of \\; common \\; shares \\; outstanding + Adjusted \\; for \\; convertibles } $$\n",
        "$$ = \\frac{\\$100,000 - \\$4,000 + \\$10,000 * (1-0.35)}{10,000 + 2,000} ≈ \\$8.54166666667$$ "
      ]
    },
    {
      "cell_type": "markdown",
      "metadata": {},
      "source": [
        "---"
      ]
    },
    {
      "cell_type": "markdown",
      "metadata": {},
      "source": [
        "# Assignment 3: Implementing the codes in the textbook"
      ]
    },
    {
      "cell_type": "markdown",
      "metadata": {},
      "source": [
        "### Problem 1.  \n",
        "Compare the operating incomes and the adjusted stock prices of Samsung Electronics following the steps.\n"
      ]
    },
    {
      "cell_type": "markdown",
      "metadata": {},
      "source": [
        "**Step 1. Fetching annual adjusted-closing price of Samsung Electronics**            \n",
        "Use the Yahoo Finance library to fetch the adjusted closing prices for Samsung Electronics from the end of the year (December 31st) for the years 2013 to 2022.\n"
      ]
    },
    {
      "cell_type": "code",
      "execution_count": 42,
      "metadata": {},
      "outputs": [
        {
          "data": {
            "text/plain": [
              "2013-12-31    21919.761719\n",
              "2014-12-31    21519.191406\n",
              "2015-12-31    20776.921875\n",
              "2016-12-31    30197.148438\n",
              "2017-12-31    43472.519531\n",
              "2018-12-31    34069.515625\n",
              "2019-12-31    50581.304688\n",
              "2020-12-31    76804.664062\n",
              "2021-12-31    75600.531250\n",
              "2022-12-31    54708.589844\n",
              "Name: Adj Close, dtype: float64"
            ]
          },
          "execution_count": 42,
          "metadata": {},
          "output_type": "execute_result"
        }
      ],
      "source": [
        "# 1. Import the libraries\n",
        "import pandas as pd\n",
        "import yfinance as yf\n",
        "import matplotlib.pyplot as plt\n",
        "\n",
        "# 2. Download Samsung Electronics' stock prices from 2013 to 2022 \n",
        "df = yf.download(\"005930.KS\", # TICKER in yfinance : Samsung Electronics Co., Ltd. (005930.KS)\n",
        "    start=\"2013-12-30\",\n",
        "    end=\"2022-12-31\",\n",
        "    progress=False)\n",
        "\n",
        "# 3. Select \"Adj Close\" column\n",
        "df_adj_close = df[\"Adj Close\"]\n",
        "\n",
        "# 4. Select \"20XX-12-31\" rows \n",
        "col_date, col_adj_close = list(), list()\n",
        "for year in range(2013, 2022+1):\n",
        "    date = 31 \n",
        "    date_time = f\"{year}-12-{date}\"\n",
        "    while date_time not in df_adj_close.keys(): # if \"20XX-12-31\" is not included in business day \n",
        "        date -= 1\n",
        "        date_time = f\"{year}-12-{date}\"\n",
        "    col_date.append(f\"{year}-12-31\"); col_adj_close.append(df_adj_close[date_time])\n",
        "\n",
        "# 5. Make the type pd.Series\n",
        "df_adj_close = pd.Series(col_adj_close, index=pd.Index(col_date))\n",
        "df_adj_close.name = \"Adj Close\"\n",
        "df_adj_close"
      ]
    },
    {
      "cell_type": "markdown",
      "metadata": {},
      "source": [
        "**Step 2. Pulling and organizing financial statements of Samsung Electronics from 2013 to 2022.**      \n",
        "Using the dictionary below, fetch Samsung Electronics' consolidated balance sheet, consolidated income statement, and consolidated cash flow statement from DART for the years 2013 to 2022 and then save them into a single Excel file.\n"
      ]
    },
    {
      "cell_type": "markdown",
      "metadata": {},
      "source": [
        "In South Korea's electronic disclosure system, DART, the rcp number and dcm number are unique identifiers for each disclosure document.\n",
        "\n",
        "1. **Rcp Number (Receipt Number)**: This is a unique number assigned by DART for each disclosure document. The rcp number includes information indicating the date and time of disclosure receipt, as well as the type of document.\n",
        "\n",
        "2. **Dcm Number (Document Number)**: This number differentiates each document within a single rcp number when there are multiple documents.\n",
        "\n",
        "These numbers aid users in quickly and accurately finding the disclosure information they need."
      ]
    },
    {
      "cell_type": "code",
      "execution_count": 43,
      "metadata": {},
      "outputs": [],
      "source": [
        "# 1. Import the libraries\n",
        "import requests\n",
        "from io import BytesIO\n",
        "import pandas as pd\n",
        "\n",
        "# 2. Initialize variables \n",
        "endpoint = \"https://dart.fss.or.kr/pdf/download/excel.do\"\n",
        "headers = {\"user-agent\": \"Mozilla/5.0\"}\n",
        "samsung_dart_code = [\n",
        "    {\"year\": 2013, \"rcp\": \"20140331002427\", \"dcm\": \"4114631\"},\n",
        "    {\"year\": 2014, \"rcp\": \"20150331002915\", \"dcm\": \"4556583\"},\n",
        "    {\"year\": 2015, \"rcp\": \"20160330003536\", \"dcm\": \"5026126\"},\n",
        "    {\"year\": 2016, \"rcp\": \"20170331004518\", \"dcm\": \"5540271\"},\n",
        "    {\"year\": 2017, \"rcp\": \"20180402005019\", \"dcm\": \"6060273\"},\n",
        "    {\"year\": 2018, \"rcp\": \"20190401004781\", \"dcm\": \"6616741\"},\n",
        "    {\"year\": 2019, \"rcp\": \"20200330003851\", \"dcm\": \"7202455\"},\n",
        "    {\"year\": 2020, \"rcp\": \"20210309000744\", \"dcm\": \"7861003\"},\n",
        "    {\"year\": 2021, \"rcp\": \"20220308000798\", \"dcm\": \"8446647\"},\n",
        "    {\"year\": 2022, \"rcp\": \"20230307000542\", \"dcm\": \"9040011\"}\n",
        "]"
      ]
    },
    {
      "cell_type": "code",
      "execution_count": 44,
      "metadata": {},
      "outputs": [],
      "source": [
        "# 3. Initialize dataframe \"result\"\n",
        "params = {\n",
        "    \"rcp_no\": \"20230307000542\",\n",
        "    \"dcm_no\": \"9040011\",\n",
        "    \"lang\": \"ko\" # language\n",
        "}\n",
        "resp = requests.get(url=endpoint, headers=headers, params=params)\n",
        "\n",
        "if resp.status_code == 200:\n",
        "    doc = BytesIO(resp.content)\n",
        "    \n",
        "result = dict()\n",
        "result[\"CompanyName\"] = \"SAMSUNG Electronics Co., Ltd.\"\n",
        "result[\"BalanceSheet\"] = pd.read_excel(doc, sheet_name=\"연결 재무상태표\", skiprows=6)       # consolidated balance sheet\n",
        "result[\"IncomeStatement\"] = pd.read_excel(doc, sheet_name=\"연결 손익계산서\", skiprows=6)    # consolidated income statement\n",
        "result[\"CashFlowStatement\"] = pd.read_excel(doc, sheet_name=\"연결 현금흐름표\", skiprows=6)  # consolidated cash flow statement \n",
        "\n",
        "result[\"BalanceSheet\"][\" \"] = result[\"BalanceSheet\"][\" \"].apply(lambda x: x.strip())\n",
        "result[\"IncomeStatement\"][\" \"] = result[\"IncomeStatement\"][\" \"].apply(lambda x: x.strip())\n",
        "result[\"CashFlowStatement\"][\" \"] = result[\"CashFlowStatement\"][\" \"].apply(lambda x: x.strip())"
      ]
    },
    {
      "cell_type": "code",
      "execution_count": 45,
      "metadata": {},
      "outputs": [],
      "source": [
        "# 4. Join the DataFrame (outer join)\n",
        "for code in samsung_dart_code[-2::-1]:\n",
        "    year, rcp_number, dcm_number = code[\"year\"], code[\"rcp\"], code[\"dcm\"]\n",
        "    params = {\n",
        "    \"rcp_no\": rcp_number,\n",
        "    \"dcm_no\": dcm_number,\n",
        "    \"lang\": \"ko\" # language\n",
        "    }\n",
        "    resp = requests.get(url=endpoint, headers=headers, params=params)\n",
        "\n",
        "    if resp.status_code == 200:\n",
        "        doc = BytesIO(resp.content)\n",
        "        \n",
        "    # 각 시트에 2013 ~ 2022 연도별 데이터 병합\n",
        "    balance_sheet = pd.read_excel(doc, sheet_name=\"연결 재무상태표\", skiprows=6).iloc[:, [0, -1]]     \n",
        "    income_statement = pd.read_excel(doc, sheet_name=\"연결 손익계산서\", skiprows=6).iloc[:, [0, -1]]   \n",
        "    cash_flow_statement = pd.read_excel(doc, sheet_name=\"연결 현금흐름표\", skiprows=6).iloc[:, [0, -1]]\n",
        "    \n",
        "    # 띄어쓰기 차이로 항목 구분되는 경우 방지 \n",
        "    balance_sheet[\" \"] = balance_sheet[\" \"].apply(lambda x: x.strip())\n",
        "    income_statement[\" \"] = income_statement[\" \"].apply(lambda x: x.strip())\n",
        "    cash_flow_statement[\" \"] = cash_flow_statement[\" \"].apply(lambda x: x.strip())\n",
        "\n",
        "    result[\"BalanceSheet\"] = pd.merge(result[\"BalanceSheet\"], balance_sheet, how=\"outer\") \n",
        "    result[\"IncomeStatement\"] = pd.merge(result[\"IncomeStatement\"], income_statement, how=\"outer\") \n",
        "    result[\"CashFlowStatement\"] = pd.merge(result[\"CashFlowStatement\"], cash_flow_statement, how=\"outer\") "
      ]
    },
    {
      "cell_type": "code",
      "execution_count": 46,
      "metadata": {},
      "outputs": [],
      "source": [
        "# 5. [Chore] Change column, index name \n",
        "\n",
        "# 1) 칼럼 이름 변경 \n",
        "for num in range(43, 54+1):\n",
        "    result[\"BalanceSheet\"].rename(columns = {f\"제 {num} 기\" : f\"20{str(num-32)}-12-31\"}, inplace=True)\n",
        "    result[\"IncomeStatement\"].rename(columns = {f\"제 {num} 기\" : f\"20{str(num-32)}-12-31\"}, inplace=True)\n",
        "    result[\"CashFlowStatement\"].rename(columns = {f\"제 {num} 기\" : f\"20{str(num-32)}-12-31\"}, inplace=True)\n",
        "\n",
        "# 2) 인덱스 이름 변경 \n",
        "result[\"BalanceSheet\"].index = result[\"BalanceSheet\"][\" \"]\n",
        "result[\"BalanceSheet\"] = result[\"BalanceSheet\"].iloc[:, 1:]\n",
        "result[\"IncomeStatement\"].index = result[\"IncomeStatement\"][\" \"]\n",
        "result[\"IncomeStatement\"] = result[\"IncomeStatement\"].iloc[:, 1:]\n",
        "result[\"CashFlowStatement\"].index = result[\"CashFlowStatement\"][\" \"]\n",
        "result[\"CashFlowStatement\"] = result[\"CashFlowStatement\"].iloc[:, 1:]"
      ]
    },
    {
      "cell_type": "code",
      "execution_count": 47,
      "metadata": {},
      "outputs": [],
      "source": [
        "# 6. Save the excel file \n",
        "\n",
        "# !pip install openpyxl\n",
        "\n",
        "# 1) 파일 생성\n",
        "writer=pd.ExcelWriter('Samsung_FS_1322.xlsx', engine='openpyxl')\n",
        " \n",
        "# 2) 생성 파일에 시트명 지정 후 dataframe에 저장한 결과값 넣기\n",
        "result[\"BalanceSheet\"].to_excel(writer, sheet_name='연결 재무상태표')\n",
        "result[\"IncomeStatement\"].to_excel(writer, sheet_name='연결 손익계산서')\n",
        "result[\"CashFlowStatement\"].to_excel(writer, sheet_name='연결 현금흐름표')\n",
        " \n",
        "# 3) 작성 완료 후 파일 저장\n",
        "writer.save()"
      ]
    },
    {
      "cell_type": "markdown",
      "metadata": {},
      "source": [
        "**Step 3. Visualization**            \n",
        "Use the Matplotlib library to plot a graph comparing the rate of changes in operating income (영업이익) and the rate of changes in stock price. \n"
      ]
    },
    {
      "cell_type": "code",
      "execution_count": 48,
      "metadata": {},
      "outputs": [],
      "source": [
        "# 1. [Operating income] 영업이익 Series 생성 \n",
        "df1=result[\"IncomeStatement\"].loc[\"영업이익\"]\n",
        "df2=result[\"IncomeStatement\"].loc[\"영업이익(손실)\"].rename(\"영업이익\")\n",
        "df1.update(df2)\n",
        "\n",
        "# 2. [Operating income] the rate of changes 계산 \n",
        "df_operating_income = df1.copy()[:-2:]          # 2011년 ~ 2012년 행 삭제 \n",
        "df_operating_income = df_operating_income[::-1] # 날짜 순서 변경 (과거 ~ 현재)\n",
        "df_operating_income = df_operating_income.pct_change().rename(\"Rate of Change in Operating Income\")\n",
        "\n",
        "# 3. [Stock price] the rate of changes 계산 \n",
        "df_adj_close = df_adj_close.pct_change().rename(\"Rate of Change in Stock Price\")"
      ]
    },
    {
      "cell_type": "code",
      "execution_count": 49,
      "metadata": {},
      "outputs": [
        {
          "data": {
            "image/png": "[encoded data removed]",
            "text/plain": [
              "<Figure size 1500x500 with 2 Axes>"
            ]
          },
          "metadata": {},
          "output_type": "display_data"
        }
      ],
      "source": [
        "# 4. 그래프 그리기 \n",
        "import matplotlib.pyplot as plt\n",
        "\n",
        "fig, ax1 = plt.subplots(figsize=(15, 5))\n",
        "\n",
        "ax1.plot(df_operating_income, label=\"Rate of Change in Operating Income\")\n",
        "ax1.set_xlabel(\"Year\")\n",
        "ax1.set_ylabel('Cummulative Operating Cashflows')\n",
        "\n",
        "ax2 = ax1.twinx()\n",
        "ax2.plot(df_adj_close, color=\"orange\", label=\"Rate of Change in Stock Price\")\n",
        "ax2.set_ylabel('Stock Price')\n",
        "\n",
        "# 범례 표시 \n",
        "lines1, labels1 = ax1.get_legend_handles_labels()\n",
        "lines2, labels2 = ax2.get_legend_handles_labels()\n",
        "ax1.legend(lines1 + lines2, labels1 + labels2, loc='upper left')\n",
        "\n",
        "plt.title(\"SAMSUNG Electronics Co., Ltd.\")\n",
        "plt.show()"
      ]
    },
    {
      "cell_type": "markdown",
      "metadata": {},
      "source": [
        "### Problem 2. \n",
        "Calculate the WACC (Weighted Average Cost of Capital) of Apple, Inc. following the steps.\n",
        "\n",
        "**Step1. Cost of Debt**             \n",
        "1)\tRisk-free Rate: Use the FRED library to retrieve the 10-year yield for Treasury bills. \n",
        "-\tFRED code for the 10-year t-bill yield: DGS10 "
      ]
    },
    {
      "cell_type": "markdown",
      "metadata": {},
      "source": [
        "> **The 10-year T-bill yield** and **Risk free rate**?   \n",
        "     \n",
        "The 10-year T-bill yield will be used as the risk free rate when valueing the markets or an individual security.         \n",
        "- cf. https://ycharts.com/indicators/10_year_treasury_rate"
      ]
    },
    {
      "cell_type": "code",
      "execution_count": 50,
      "metadata": {},
      "outputs": [],
      "source": [
        "# 1. Import libraries \n",
        "# !pip install fredapi\n",
        "from fredapi import Fred\n",
        "import pandas as pd\n",
        "\n",
        "# 2. Authenticate using your personal API key\n",
        "fred_api = \"YOUR_API_KEY_HERE\"\n",
        "fred = Fred(api_key = fred_api)"
      ]
    },
    {
      "cell_type": "code",
      "execution_count": 51,
      "metadata": {},
      "outputs": [],
      "source": [
        "# 3. Download the data - 10-year T-bill yield\n",
        "code = \"DGS10\" # 10-year T-bill yield\n",
        "    \n",
        "try:\n",
        "    risk_free_rate = fred.get_series(code, sort_order=\"desc\", limit=\"60\").rename(\"Risk Free Rate\")\n",
        "except Exception as e:\n",
        "    print(f\"Error occurred!: {e}\") "
      ]
    },
    {
      "cell_type": "markdown",
      "metadata": {},
      "source": [
        "2)\tCredit Spread: Employ the FRED library again to obtain the credit spread corresponding to a specific rating. \n",
        "-\tCredit rating of Apple, Inc.: AA\n",
        "-\tFRED code for the spread of specific rating: BAMLC0A2C + Credit rating (i.e., BAMLC0A2CAA)"
      ]
    },
    {
      "cell_type": "code",
      "execution_count": 52,
      "metadata": {},
      "outputs": [],
      "source": [
        "# 3. Download the data - Credit spread\n",
        "code = \"BAMLC0A2C\" + \"AA\" # credit spread + credit rating of apple \n",
        "    \n",
        "try:\n",
        "    credit_spread = fred.get_series(code, sort_order=\"desc\", limit=\"60\").rename(\"Credit Spread\")\n",
        "except Exception as e:\n",
        "    print(f\"Error occurred!: {e}\") "
      ]
    },
    {
      "cell_type": "markdown",
      "metadata": {},
      "source": [
        "3)\tDerive Cost of Debt:\n",
        "$$ Cost \\; of \\; Debt = Risk \\; free \\; Rate + Credit \\; Spread $$ "
      ]
    },
    {
      "cell_type": "code",
      "execution_count": 53,
      "metadata": {},
      "outputs": [],
      "source": [
        "# 4. Derive cost of debt \n",
        "df = pd.merge(risk_free_rate, credit_spread, how=\"inner\", left_index=True, right_index=True)\n",
        "cost_of_debt = df.apply(lambda x: x[\"Risk Free Rate\"] + x[\"Credit Spread\"], axis=1).rename(\"Cost of Debt (%)\")"
      ]
    },
    {
      "cell_type": "markdown",
      "metadata": {},
      "source": [
        "**Step 2. Cost of Equity**               \n",
        "1) Equity Risk Premium                                          \n",
        "Use the Requests and the Beautiful Soup libraries to find the equity risk premium for the US stock market from Professor Damodaran’s website at NYU Stern Schol, which provides the equity risk premium for each country.                \n",
        "website: https://pages.stern.nyu.edu/~adamodar/New_Home_Page/datafile/ctryprem.html \n",
        "\t\n"
      ]
    },
    {
      "cell_type": "code",
      "execution_count": 54,
      "metadata": {},
      "outputs": [],
      "source": [
        "# 1. Import libraries \n",
        "# !pip install beautifulsoup4\n",
        "import requests\n",
        "from bs4 import BeautifulSoup"
      ]
    },
    {
      "cell_type": "code",
      "execution_count": 55,
      "metadata": {},
      "outputs": [
        {
          "name": "stderr",
          "output_type": "stream",
          "text": [
            "c:\\Users\\kna09\\miniconda3\\envs\\fba_py37\\lib\\site-packages\\urllib3\\connectionpool.py:1052: InsecureRequestWarning: Unverified HTTPS request is being made to host 'pages.stern.nyu.edu'. Adding certificate verification is strongly advised. See: https://urllib3.readthedocs.io/en/1.26.x/advanced-usage.html#ssl-warnings\n",
            "  InsecureRequestWarning,\n"
          ]
        },
        {
          "name": "stdout",
          "output_type": "stream",
          "text": [
            "HTML File is Succefully Saved\n"
          ]
        }
      ],
      "source": [
        "# 2. Save the html file\n",
        "url = \"https://pages.stern.nyu.edu/~adamodar/New_Home_Page/datafile/ctryprem.html\"\n",
        "headers = {'User-Agent': 'Mozilla/5.0'}\n",
        "resp = requests.get(url, headers=headers, verify=False) # add \"verify=False\" ([ERROR] SSLError: HTTPSConnectionPool)\n",
        "\n",
        "if resp.status_code == 200:\n",
        "    html_text = resp.text\n",
        "    with open(\"equity_risk_premium.html\", \"wt\", encoding=\"utf-8\") as f:\n",
        "        f.write(html_text)\n",
        "    print(\"HTML File is Succefully Saved\")\n",
        "else:\n",
        "    resp.raise_for_status"
      ]
    },
    {
      "cell_type": "code",
      "execution_count": 56,
      "metadata": {},
      "outputs": [
        {
          "name": "stdout",
          "output_type": "stream",
          "text": [
            "Equity Risk Premium in US = 5.0\n"
          ]
        }
      ],
      "source": [
        "# 3. Extract the table data from html file \n",
        "with open(\"equity_risk_premium.html\", \"rt\", encoding=\"utf-8\") as f:\n",
        "    html_content = f.read()\n",
        "soup = BeautifulSoup(html_content, \"html.parser\")\n",
        "\n",
        "# 1) Find the table\n",
        "table = soup.find('table')\n",
        "\n",
        "# 2) Extract data in rows\n",
        "table_rows = []\n",
        "for tr in table.find_all(\"tr\"):\n",
        "    # Extract cell data in the row\n",
        "    row_data = [td.text.strip() for td in tr.find_all(\"td\")]\n",
        "    if row_data:\n",
        "        table_rows.append(row_data)   \n",
        "        \n",
        "# 3) [Chore] Change column name \n",
        "table_headers = list()\n",
        "for item in table_rows[0]:\n",
        "    item = item.replace(\"\\\\n\", \"\") # \"\\\\n\" 문자 삭제 \n",
        "    item = ' '.join(item.split()) # 중간 공백 삭제\n",
        "    table_headers.append(item)\n",
        "table_rows = table_rows[1:]\n",
        "df = pd.DataFrame(table_rows, columns=table_headers)\n",
        "\n",
        "# 4) Extract the Equity Risk Premium of United States \n",
        "equity_risk_premium_US = df[df[\"Country\"] == \"United States\"][\"Equity Risk Premium\"]\n",
        "equity_risk_premium_US = float(equity_risk_premium_US.values[0][:-1])  # % 를 숫자로  \n",
        "print(f\"Equity Risk Premium in US = {equity_risk_premium_US}\")"
      ]
    },
    {
      "cell_type": "markdown",
      "metadata": {},
      "source": [
        "2) Equity Beta                  \n",
        "Employ the Requests and the Beautiful Soup libraries again to get the equity beta of Apple, Inc. from the Yahoo finance website.           \n",
        "website: https://finance.yahoo.com/quote/AAPL/                   \n",
        "Hint: Using the Beautiful Soup library, extract the text content from the <td> tag where the attribute “data-test” is set to “BETA_5Y-value”"
      ]
    },
    {
      "cell_type": "code",
      "execution_count": 57,
      "metadata": {},
      "outputs": [
        {
          "name": "stderr",
          "output_type": "stream",
          "text": [
            "c:\\Users\\kna09\\miniconda3\\envs\\fba_py37\\lib\\site-packages\\urllib3\\connectionpool.py:1052: InsecureRequestWarning: Unverified HTTPS request is being made to host 'finance.yahoo.com'. Adding certificate verification is strongly advised. See: https://urllib3.readthedocs.io/en/1.26.x/advanced-usage.html#ssl-warnings\n",
            "  InsecureRequestWarning,\n"
          ]
        },
        {
          "name": "stdout",
          "output_type": "stream",
          "text": [
            "HTML File is Succefully Saved\n"
          ]
        }
      ],
      "source": [
        "# 2. Save the html file\n",
        "url = \"https://finance.yahoo.com/quote/AAPL/\"\n",
        "headers = {'User-Agent': 'Mozilla/5.0'}\n",
        "resp = requests.get(url, headers=headers, verify=False) # add \"verify=False\" ([ERROR] SSLError: HTTPSConnectionPool)\n",
        "\n",
        "if resp.status_code == 200:\n",
        "    html_text = resp.text\n",
        "    with open(\"AAPL_equity_beta.html\", \"wt\", encoding=\"utf-8\") as f:\n",
        "        f.write(html_text)\n",
        "    print(\"HTML File is Succefully Saved\")\n",
        "else:\n",
        "    resp.raise_for_status"
      ]
    },
    {
      "cell_type": "code",
      "execution_count": 58,
      "metadata": {},
      "outputs": [
        {
          "name": "stdout",
          "output_type": "stream",
          "text": [
            "Equity Beta = 1.27\n"
          ]
        }
      ],
      "source": [
        "# 3. Extract the table data from html file \n",
        "with open(\"AAPL_equity_beta.html\", \"rt\", encoding=\"utf-8\") as f:\n",
        "    html_content = f.read()\n",
        "soup = BeautifulSoup(html_content, \"html.parser\")\n",
        "\n",
        "# 1) Find the text data (attribute name = \"data-test\" | value = \"BETA_5Y-value\")\n",
        "equity_beta = float(soup.find(attrs = {\"data-test\" : \"BETA_5Y-value\"}).text)\n",
        "print(f\"Equity Beta = {equity_beta}\")"
      ]
    },
    {
      "cell_type": "markdown",
      "metadata": {},
      "source": [
        "3) Derive Cost of Equity               \n",
        "$$ Cost \\; of \\; Equity = Risk  \\;free \\;Rate + Equity \\; Beta * Equity \\; Risk \\; Premium $$"
      ]
    },
    {
      "cell_type": "code",
      "execution_count": 59,
      "metadata": {},
      "outputs": [],
      "source": [
        "# 4. Derive cost of equity \n",
        "cost_of_equity = risk_free_rate + equity_beta * equity_risk_premium_US \n",
        "cost_of_equity = cost_of_equity.rename(\"Cost of Equity (%)\")"
      ]
    },
    {
      "cell_type": "markdown",
      "metadata": {},
      "source": [
        "**Step 3. WACC - Weighted Average Cost of Capital**                  \n",
        "1) Formula of WACC and Financial Information           \n",
        "$$ WACC = \\frac{E}{V} × Re + \\frac{D}{V}  × Rd × (1 - Tc) $$\n",
        "where            \n",
        "WACC is the Weighted Average Cost of Capital.              \n",
        "E represents the market value of equity.                 \n",
        "V stands for the total market value of the firm (i.e., \\( E + D \\)).                 \n",
        "Re is the cost of equity (or the expected return on equity).           \n",
        "D signifies the market value of debt.            \n",
        "Rd denotes the cost of debt (essentially, the interest rate).             \n",
        "Tc is the corporate tax rate.                              \n",
        "\n",
        "Financial Information of Apple, Inc at Dec 2022.          \n",
        "Total Asset: 352,755,000,000         \n",
        "Total Debt: 120,069,000,000        \n",
        "Effective Tax rate: 16.2045%                   \n",
        "\n"
      ]
    },
    {
      "cell_type": "markdown",
      "metadata": {},
      "source": [
        "> Market Value of Equity\n",
        "\n",
        "$$ (Assumption.) \\; Market \\; Value \\; of \\; Equity = Shareholder's \\; equity = Total \\; Asset - Total \\; Debt $$\n",
        "\n",
        "> Market Value of Debt\n",
        "$$ (Assumption.) \\; Market \\; Value \\; of \\; Debt = Total \\; Debt $$ "
      ]
    },
    {
      "cell_type": "code",
      "execution_count": 60,
      "metadata": {},
      "outputs": [],
      "source": [
        "# 1. Initialize variables \n",
        "total_asset = 352755000000\n",
        "total_debt = 120069000000\n",
        "Re = cost_of_equity / 100 # (%)\n",
        "Rd = cost_of_debt / 100 # (%)\n",
        "E = total_asset - total_debt\n",
        "D = total_debt\n",
        "V = E + D\n",
        "Tc = 16.2045 / 100 # 16.2045 (%)"
      ]
    },
    {
      "cell_type": "markdown",
      "metadata": {},
      "source": [
        "2) Derive WACC of Apple, Inc.          \n",
        "Calculate WACC of Apple by making use of the source and formula above.  "
      ]
    },
    {
      "cell_type": "code",
      "execution_count": 61,
      "metadata": {},
      "outputs": [],
      "source": [
        "# 2. Derive WACC of Apple \n",
        "WACC = ( (E/V * Re) + (D/V * Rd * (1-Tc)) ) * 100 # (%)\n",
        "WACC = pd.DataFrame(WACC.rename(\"WACC of Apple (%)\"))"
      ]
    },
    {
      "cell_type": "code",
      "execution_count": 62,
      "metadata": {},
      "outputs": [
        {
          "data": {
            "text/html": [
              "<div>\n",
              "<style scoped>\n",
              "    .dataframe tbody tr th:only-of-type {\n",
              "        vertical-align: middle;\n",
              "    }\n",
              "\n",
              "    .dataframe tbody tr th {\n",
              "        vertical-align: top;\n",
              "    }\n",
              "\n",
              "    .dataframe thead th {\n",
              "        text-align: right;\n",
              "    }\n",
              "</style>\n",
              "<table border=\"1\" class=\"dataframe\">\n",
              "  <thead>\n",
              "    <tr style=\"text-align: right;\">\n",
              "      <th></th>\n",
              "      <th>Cost of Equity (%)</th>\n",
              "      <th>Cost of Debt (%)</th>\n",
              "      <th>WACC of Apple (%)</th>\n",
              "    </tr>\n",
              "  </thead>\n",
              "  <tbody>\n",
              "    <tr>\n",
              "      <th>2023-09-13</th>\n",
              "      <td>10.60</td>\n",
              "      <td>4.91</td>\n",
              "      <td>8.392450</td>\n",
              "    </tr>\n",
              "    <tr>\n",
              "      <th>2023-09-12</th>\n",
              "      <td>10.62</td>\n",
              "      <td>4.93</td>\n",
              "      <td>8.411347</td>\n",
              "    </tr>\n",
              "    <tr>\n",
              "      <th>2023-09-11</th>\n",
              "      <td>10.64</td>\n",
              "      <td>4.94</td>\n",
              "      <td>8.427391</td>\n",
              "    </tr>\n",
              "    <tr>\n",
              "      <th>2023-09-08</th>\n",
              "      <td>10.61</td>\n",
              "      <td>4.91</td>\n",
              "      <td>8.399046</td>\n",
              "    </tr>\n",
              "    <tr>\n",
              "      <th>2023-09-07</th>\n",
              "      <td>10.62</td>\n",
              "      <td>4.93</td>\n",
              "      <td>8.411347</td>\n",
              "    </tr>\n",
              "    <tr>\n",
              "      <th>2023-09-06</th>\n",
              "      <td>10.65</td>\n",
              "      <td>4.96</td>\n",
              "      <td>8.439692</td>\n",
              "    </tr>\n",
              "    <tr>\n",
              "      <th>2023-09-05</th>\n",
              "      <td>10.62</td>\n",
              "      <td>4.92</td>\n",
              "      <td>8.408494</td>\n",
              "    </tr>\n",
              "    <tr>\n",
              "      <th>2023-09-04</th>\n",
              "      <td>NaN</td>\n",
              "      <td>NaN</td>\n",
              "      <td>NaN</td>\n",
              "    </tr>\n",
              "    <tr>\n",
              "      <th>2023-09-01</th>\n",
              "      <td>10.53</td>\n",
              "      <td>4.83</td>\n",
              "      <td>8.323458</td>\n",
              "    </tr>\n",
              "    <tr>\n",
              "      <th>2023-08-31</th>\n",
              "      <td>10.44</td>\n",
              "      <td>4.74</td>\n",
              "      <td>8.238422</td>\n",
              "    </tr>\n",
              "  </tbody>\n",
              "</table>\n",
              "</div>"
            ],
            "text/plain": [
              "            Cost of Equity (%)  Cost of Debt (%)  WACC of Apple (%)\n",
              "2023-09-13               10.60              4.91           8.392450\n",
              "2023-09-12               10.62              4.93           8.411347\n",
              "2023-09-11               10.64              4.94           8.427391\n",
              "2023-09-08               10.61              4.91           8.399046\n",
              "2023-09-07               10.62              4.93           8.411347\n",
              "2023-09-06               10.65              4.96           8.439692\n",
              "2023-09-05               10.62              4.92           8.408494\n",
              "2023-09-04                 NaN               NaN                NaN\n",
              "2023-09-01               10.53              4.83           8.323458\n",
              "2023-08-31               10.44              4.74           8.238422"
            ]
          },
          "execution_count": 62,
          "metadata": {},
          "output_type": "execute_result"
        }
      ],
      "source": [
        "df_result = pd.merge(cost_of_equity, cost_of_debt, left_index=True, right_index=True)\n",
        "df_result = pd.merge(df_result, WACC, left_index=True, right_index=True)\n",
        "df_result.head(10)"
      ]
    },
    {
      "cell_type": "markdown",
      "metadata": {},
      "source": [
        "---"
      ]
    },
    {
      "cell_type": "markdown",
      "metadata": {},
      "source": [
        "# Chap 2. Beautiful Soup Library and Finding CIK Number\n",
        "### - Web Scraping With Beautiful Soup in Python\n",
        "\n",
        "아래 링크에서 시가총액 상위 50개 기업의 티커를 추출하고 위의 방법을 이용하여 해당 기업의 CIK Number를 찾아 다음의 DataFrame을 도출하시오.\n",
        "https://www.slickcharts.com/sp500"
      ]
    },
    {
      "cell_type": "code",
      "execution_count": 63,
      "metadata": {},
      "outputs": [
        {
          "name": "stdout",
          "output_type": "stream",
          "text": [
            "HTML File is Succefully Saved\n"
          ]
        }
      ],
      "source": [
        "from bs4 import BeautifulSoup\n",
        "import requests\n",
        "import pandas as pd\n",
        "\n",
        "url = \"https://www.slickcharts.com/sp500\"\n",
        "headers = {'User-Agent': 'Mozilla/5.0'}\n",
        "resp = requests.get(url, headers=headers)\n",
        "\n",
        "if resp.status_code == 200:\n",
        "    html_text = resp.text\n",
        "    with open(\"sp500_companies.html\", \"wt\", encoding=\"utf-8\") as f:\n",
        "        f.write(html_text)\n",
        "    print(\"HTML File is Succefully Saved\")\n",
        "else:\n",
        "    resp.raise_for_status\n",
        "    \n",
        "with open(\"sp500_companies.html\", \"rt\", encoding=\"utf-8\") as f:\n",
        "    html_content = f.read()\n",
        "soup = BeautifulSoup(html_content, \"html.parser\")"
      ]
    },
    {
      "cell_type": "code",
      "execution_count": 64,
      "metadata": {},
      "outputs": [],
      "source": [
        "table = soup.find('table')\n",
        "\n",
        "# Extract headers\n",
        "table_headers = []\n",
        "for th in table.find_all(\"th\"):\n",
        "    table_headers.append(th.text.strip())\n",
        "    \n",
        "# Extract data in rows\n",
        "table_rows = []\n",
        "for tr in table.find_all(\"tr\"):\n",
        "    # Extract cell data in the row\n",
        "    row_data = [td.text.strip() for td in tr.find_all(\"td\")]\n",
        "    if row_data:\n",
        "        table_rows.append(row_data)    \n",
        "        \n",
        "df1 = pd.DataFrame(table_rows, columns=table_headers)\n",
        "df_ticker = pd.DataFrame(df1[\"Symbol\"][:50].rename(\"Ticker\")).set_index(\"Ticker\")"
      ]
    },
    {
      "cell_type": "code",
      "execution_count": 72,
      "metadata": {},
      "outputs": [],
      "source": [
        "url = \"https://en.wikipedia.org/wiki/List_of_S%26P_500_companies\"\n",
        "tables = pd.read_html(url, header='infer')\n",
        "df2 = tables[0]\n",
        "df2.set_index(\"Symbol\", inplace=True)\n",
        "df_CIK_number = df2[\"CIK\"].apply(lambda x: str(x).zfill(10)) "
      ]
    },
    {
      "cell_type": "code",
      "execution_count": 73,
      "metadata": {},
      "outputs": [
        {
          "data": {
            "text/html": [
              "<div>\n",
              "<style scoped>\n",
              "    .dataframe tbody tr th:only-of-type {\n",
              "        vertical-align: middle;\n",
              "    }\n",
              "\n",
              "    .dataframe tbody tr th {\n",
              "        vertical-align: top;\n",
              "    }\n",
              "\n",
              "    .dataframe thead th {\n",
              "        text-align: right;\n",
              "    }\n",
              "</style>\n",
              "<table border=\"1\" class=\"dataframe\">\n",
              "  <thead>\n",
              "    <tr style=\"text-align: right;\">\n",
              "      <th></th>\n",
              "      <th>CIK</th>\n",
              "    </tr>\n",
              "    <tr>\n",
              "      <th>Ticker</th>\n",
              "      <th></th>\n",
              "    </tr>\n",
              "  </thead>\n",
              "  <tbody>\n",
              "    <tr>\n",
              "      <th>AAPL</th>\n",
              "      <td>0000320193</td>\n",
              "    </tr>\n",
              "    <tr>\n",
              "      <th>MSFT</th>\n",
              "      <td>0000789019</td>\n",
              "    </tr>\n",
              "    <tr>\n",
              "      <th>AMZN</th>\n",
              "      <td>0001018724</td>\n",
              "    </tr>\n",
              "    <tr>\n",
              "      <th>NVDA</th>\n",
              "      <td>0001045810</td>\n",
              "    </tr>\n",
              "    <tr>\n",
              "      <th>GOOGL</th>\n",
              "      <td>0001652044</td>\n",
              "    </tr>\n",
              "    <tr>\n",
              "      <th>TSLA</th>\n",
              "      <td>0001318605</td>\n",
              "    </tr>\n",
              "    <tr>\n",
              "      <th>GOOG</th>\n",
              "      <td>0001652044</td>\n",
              "    </tr>\n",
              "    <tr>\n",
              "      <th>META</th>\n",
              "      <td>0001326801</td>\n",
              "    </tr>\n",
              "    <tr>\n",
              "      <th>BRK.B</th>\n",
              "      <td>0001067983</td>\n",
              "    </tr>\n",
              "    <tr>\n",
              "      <th>XOM</th>\n",
              "      <td>0000034088</td>\n",
              "    </tr>\n",
              "    <tr>\n",
              "      <th>LLY</th>\n",
              "      <td>0000059478</td>\n",
              "    </tr>\n",
              "    <tr>\n",
              "      <th>UNH</th>\n",
              "      <td>0000731766</td>\n",
              "    </tr>\n",
              "    <tr>\n",
              "      <th>JPM</th>\n",
              "      <td>0000019617</td>\n",
              "    </tr>\n",
              "    <tr>\n",
              "      <th>JNJ</th>\n",
              "      <td>0000200406</td>\n",
              "    </tr>\n",
              "    <tr>\n",
              "      <th>V</th>\n",
              "      <td>0001403161</td>\n",
              "    </tr>\n",
              "    <tr>\n",
              "      <th>PG</th>\n",
              "      <td>0000080424</td>\n",
              "    </tr>\n",
              "    <tr>\n",
              "      <th>AVGO</th>\n",
              "      <td>0001730168</td>\n",
              "    </tr>\n",
              "    <tr>\n",
              "      <th>MA</th>\n",
              "      <td>0001141391</td>\n",
              "    </tr>\n",
              "    <tr>\n",
              "      <th>HD</th>\n",
              "      <td>0000354950</td>\n",
              "    </tr>\n",
              "    <tr>\n",
              "      <th>CVX</th>\n",
              "      <td>0000093410</td>\n",
              "    </tr>\n",
              "    <tr>\n",
              "      <th>MRK</th>\n",
              "      <td>0000310158</td>\n",
              "    </tr>\n",
              "    <tr>\n",
              "      <th>ABBV</th>\n",
              "      <td>0001551152</td>\n",
              "    </tr>\n",
              "    <tr>\n",
              "      <th>ADBE</th>\n",
              "      <td>0000796343</td>\n",
              "    </tr>\n",
              "    <tr>\n",
              "      <th>COST</th>\n",
              "      <td>0000909832</td>\n",
              "    </tr>\n",
              "    <tr>\n",
              "      <th>PEP</th>\n",
              "      <td>0000077476</td>\n",
              "    </tr>\n",
              "    <tr>\n",
              "      <th>WMT</th>\n",
              "      <td>0000104169</td>\n",
              "    </tr>\n",
              "    <tr>\n",
              "      <th>CSCO</th>\n",
              "      <td>0000858877</td>\n",
              "    </tr>\n",
              "    <tr>\n",
              "      <th>KO</th>\n",
              "      <td>0000021344</td>\n",
              "    </tr>\n",
              "    <tr>\n",
              "      <th>CRM</th>\n",
              "      <td>0001108524</td>\n",
              "    </tr>\n",
              "    <tr>\n",
              "      <th>MCD</th>\n",
              "      <td>0000063908</td>\n",
              "    </tr>\n",
              "    <tr>\n",
              "      <th>BAC</th>\n",
              "      <td>0000070858</td>\n",
              "    </tr>\n",
              "    <tr>\n",
              "      <th>ACN</th>\n",
              "      <td>0001467373</td>\n",
              "    </tr>\n",
              "    <tr>\n",
              "      <th>TMO</th>\n",
              "      <td>0000097745</td>\n",
              "    </tr>\n",
              "    <tr>\n",
              "      <th>PFE</th>\n",
              "      <td>0000078003</td>\n",
              "    </tr>\n",
              "    <tr>\n",
              "      <th>CMCSA</th>\n",
              "      <td>0001166691</td>\n",
              "    </tr>\n",
              "    <tr>\n",
              "      <th>LIN</th>\n",
              "      <td>0001707925</td>\n",
              "    </tr>\n",
              "    <tr>\n",
              "      <th>ABT</th>\n",
              "      <td>0000001800</td>\n",
              "    </tr>\n",
              "    <tr>\n",
              "      <th>NFLX</th>\n",
              "      <td>0001065280</td>\n",
              "    </tr>\n",
              "    <tr>\n",
              "      <th>ORCL</th>\n",
              "      <td>0001341439</td>\n",
              "    </tr>\n",
              "    <tr>\n",
              "      <th>AMD</th>\n",
              "      <td>0000002488</td>\n",
              "    </tr>\n",
              "    <tr>\n",
              "      <th>DHR</th>\n",
              "      <td>0000313616</td>\n",
              "    </tr>\n",
              "    <tr>\n",
              "      <th>WFC</th>\n",
              "      <td>0000072971</td>\n",
              "    </tr>\n",
              "    <tr>\n",
              "      <th>INTC</th>\n",
              "      <td>0000050863</td>\n",
              "    </tr>\n",
              "    <tr>\n",
              "      <th>DIS</th>\n",
              "      <td>0001744489</td>\n",
              "    </tr>\n",
              "    <tr>\n",
              "      <th>INTU</th>\n",
              "      <td>0000896878</td>\n",
              "    </tr>\n",
              "    <tr>\n",
              "      <th>COP</th>\n",
              "      <td>0001163165</td>\n",
              "    </tr>\n",
              "    <tr>\n",
              "      <th>TXN</th>\n",
              "      <td>0000097476</td>\n",
              "    </tr>\n",
              "    <tr>\n",
              "      <th>PM</th>\n",
              "      <td>0001413329</td>\n",
              "    </tr>\n",
              "    <tr>\n",
              "      <th>CAT</th>\n",
              "      <td>0000018230</td>\n",
              "    </tr>\n",
              "    <tr>\n",
              "      <th>VZ</th>\n",
              "      <td>0000732712</td>\n",
              "    </tr>\n",
              "  </tbody>\n",
              "</table>\n",
              "</div>"
            ],
            "text/plain": [
              "               CIK\n",
              "Ticker            \n",
              "AAPL    0000320193\n",
              "MSFT    0000789019\n",
              "AMZN    0001018724\n",
              "NVDA    0001045810\n",
              "GOOGL   0001652044\n",
              "TSLA    0001318605\n",
              "GOOG    0001652044\n",
              "META    0001326801\n",
              "BRK.B   0001067983\n",
              "XOM     0000034088\n",
              "LLY     0000059478\n",
              "UNH     0000731766\n",
              "JPM     0000019617\n",
              "JNJ     0000200406\n",
              "V       0001403161\n",
              "PG      0000080424\n",
              "AVGO    0001730168\n",
              "MA      0001141391\n",
              "HD      0000354950\n",
              "CVX     0000093410\n",
              "MRK     0000310158\n",
              "ABBV    0001551152\n",
              "ADBE    0000796343\n",
              "COST    0000909832\n",
              "PEP     0000077476\n",
              "WMT     0000104169\n",
              "CSCO    0000858877\n",
              "KO      0000021344\n",
              "CRM     0001108524\n",
              "MCD     0000063908\n",
              "BAC     0000070858\n",
              "ACN     0001467373\n",
              "TMO     0000097745\n",
              "PFE     0000078003\n",
              "CMCSA   0001166691\n",
              "LIN     0001707925\n",
              "ABT     0000001800\n",
              "NFLX    0001065280\n",
              "ORCL    0001341439\n",
              "AMD     0000002488\n",
              "DHR     0000313616\n",
              "WFC     0000072971\n",
              "INTC    0000050863\n",
              "DIS     0001744489\n",
              "INTU    0000896878\n",
              "COP     0001163165\n",
              "TXN     0000097476\n",
              "PM      0001413329\n",
              "CAT     0000018230\n",
              "VZ      0000732712"
            ]
          },
          "execution_count": 73,
          "metadata": {},
          "output_type": "execute_result"
        }
      ],
      "source": [
        "df = pd.merge(df_ticker, df_CIK_number, left_index=True, right_index=True, how=\"left\")\n",
        "df"
      ]
    }
  ],
  "metadata": {
    "kernelspec": {
      "display_name": "fba",
      "language": "python",
      "name": "python3"
    },
    "language_info": {
      "codemirror_mode": {
        "name": "ipython",
        "version": 3
      },
      "file_extension": ".py",
      "mimetype": "text/x-python",
      "name": "python",
      "nbconvert_exporter": "python",
      "pygments_lexer": "ipython3",
      "version": "3.7.16"
    },
    "orig_nbformat": 4
  },
  "nbformat": 4,
  "nbformat_minor": 2
}
