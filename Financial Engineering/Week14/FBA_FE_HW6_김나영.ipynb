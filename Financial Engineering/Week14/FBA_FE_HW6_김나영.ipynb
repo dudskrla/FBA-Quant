{
  "cells": [
    {
      "cell_type": "markdown",
      "metadata": {},
      "source": [
        "# [HW6] FBA QUANT - FINANCIAL ENGINEERING"
      ]
    },
    {
      "cell_type": "markdown",
      "metadata": {},
      "source": [
        "Kim Na Young (dudskrla09@gmail.com)"
      ]
    },
    {
      "cell_type": "markdown",
      "metadata": {},
      "source": [
        "---"
      ]
    },
    {
      "cell_type": "markdown",
      "metadata": {},
      "source": [
        "### Problem 1. \n"
      ]
    },
    {
      "cell_type": "markdown",
      "metadata": {},
      "source": [
        "Consider a 10-year zero-coupon bond with face value $100. The interest t rate is fixed at 5%. The credit spread for the bond is estimated to be 1% (except in part(a)). \n",
        "\n",
        "Calculate:      \n",
        "(a) The bond value if there is no possibility of default   \n",
        "(b) The probability of default     \n",
        "(c) The value if there is no recovery      \n",
        "(d) The value if there is 50% recovery at maturity   \n",
        "(e) The value of $100 that is paid at default      "
      ]
    },
    {
      "cell_type": "markdown",
      "metadata": {},
      "source": [
        "### Solution 1."
      ]
    },
    {
      "cell_type": "markdown",
      "metadata": {},
      "source": [
        "**[Summary]**\n",
        "- Face value (F) : $100\n",
        "- Maturity (T) : 10\n",
        "- Interest rate (r) : 5% = 0.05\n",
        "- Credit spread (h) : 1% = 0.01 "
      ]
    },
    {
      "cell_type": "code",
      "execution_count": 2,
      "metadata": {},
      "outputs": [],
      "source": [
        "import numpy as np\n",
        "\n",
        "F = 100\n",
        "T = 10\n",
        "r = 0.05 \n",
        "h = 0.01"
      ]
    },
    {
      "cell_type": "markdown",
      "metadata": {},
      "source": [
        "**(a) The bond value if there is no possibility of default**"
      ]
    },
    {
      "cell_type": "markdown",
      "metadata": {},
      "source": [
        "$$ the \\; price \\; of \\; a \\; zero \\; coupon \\; bond = \\frac{F}{(1 \\; + \\; r)^T} $$\n",
        "$$ = \\frac{100}{(1 \\; + \\; 0.05)^{10}} ≒ 61.39132535 $$"
      ]
    },
    {
      "cell_type": "markdown",
      "metadata": {},
      "source": [
        "$$ B = e^{-rT}F $$\n",
        "$$ (where \\; r : interest \\; rate, T: maturity, F : face \\; value)$$"
      ]
    },
    {
      "cell_type": "code",
      "execution_count": 25,
      "metadata": {},
      "outputs": [
        {
          "name": "stdout",
          "output_type": "stream",
          "text": [
            "The price of a 10-period default-free zero-coupon bond: 60.65\n"
          ]
        }
      ],
      "source": [
        "default_free_bond_value = np.exp(-r*T)*F\n",
        "print(f\"The price of a 10-period default-free zero-coupon bond: {round(default_free_bond_value, 2)}\")"
      ]
    },
    {
      "cell_type": "markdown",
      "metadata": {},
      "source": [
        "**(b) The probability of default**     "
      ]
    },
    {
      "cell_type": "markdown",
      "metadata": {},
      "source": [
        "$$ P = 1 - e^{-{λt}} = 1 - e^{-{0.01*10}} = 1 - e^{-0.10}$$\n",
        "$$ (where \\; λ: credit \\; spread, t : the \\; time \\; to \\; maturity) $$ "
      ]
    },
    {
      "cell_type": "code",
      "execution_count": 26,
      "metadata": {},
      "outputs": [
        {
          "name": "stdout",
          "output_type": "stream",
          "text": [
            "The probability of default: 0.09516\n"
          ]
        }
      ],
      "source": [
        "default_probability = 1 - np.exp(-h*T)\n",
        "print(f\"The probability of default: {round(default_probability, 5)}\")"
      ]
    },
    {
      "cell_type": "markdown",
      "metadata": {},
      "source": [
        "**(c) The value if there is no recovery**      "
      ]
    },
    {
      "cell_type": "markdown",
      "metadata": {},
      "source": [
        "$$ V = e^{-(r+λ)T}F $$\n",
        "$$ (where \\; r : interest \\; rate, λ: credit \\; spread, T: maturity, F : face \\; value)$$"
      ]
    },
    {
      "cell_type": "code",
      "execution_count": 27,
      "metadata": {},
      "outputs": [
        {
          "name": "stdout",
          "output_type": "stream",
          "text": [
            "The price of a 10-period defaultable zero-coupon bond: 54.88\n"
          ]
        }
      ],
      "source": [
        "defaultable_no_recovery_bond_value = np.exp(-(r+h)*T)*F\n",
        "print(f\"The price of a 10-period defaultable zero-coupon bond: {round(defaultable_no_recovery_bond_value, 2)}\")"
      ]
    },
    {
      "cell_type": "markdown",
      "metadata": {},
      "source": [
        "**(d) The value if there is 50% recovery at maturity**   "
      ]
    },
    {
      "cell_type": "markdown",
      "metadata": {},
      "source": [
        "$$ V = q(T)e^{-rT}F + [1-q(T)]e^{-rT}c = e^{-rT}(q(T)F + [1-q(T)]c ) $$\n",
        "$$ = e^{-rT}F(q(T) + [1-q(T)]R)$$ \n",
        "$$ (where \\; r : interest \\; rate, λ: credit \\; spread, T: maturity, F : face \\; value, R: recovery \\; rate)$$"
      ]
    },
    {
      "cell_type": "code",
      "execution_count": 29,
      "metadata": {},
      "outputs": [
        {
          "name": "stdout",
          "output_type": "stream",
          "text": [
            "The price of a 10-period defaultable zero-coupon bond with 50% recovery at maturity: 57.77\n"
          ]
        }
      ],
      "source": [
        "R = 0.50 # 50% recovery \n",
        "q = 1 - default_probability\n",
        "V = default_free_bond_value * (q + (1-q)*R) # default_free_bond_value * q + (default_free_bond_value*R)* (1-q)\n",
        "print(f\"The price of a 10-period defaultable zero-coupon bond with 50% recovery at maturity: {round(V, 2)}\")"
      ]
    },
    {
      "cell_type": "markdown",
      "metadata": {},
      "source": [
        "**(e) The value of $100 that is paid at default**"
      ]
    },
    {
      "cell_type": "markdown",
      "metadata": {},
      "source": [
        "$$ V = e^{-rT}q(T)F + FR∫^T_0 λe^{-(r+λ)u}du = e^{-rT}e^{-λT}F + FR\\frac{λ}{r+λ}[1-e^{-(r+λ)T}] $$\n",
        "$$ (where \\; r : interest \\; rate, λ: credit \\; spread, T: maturity, F : face \\; value, R: recovery \\; rate)$$"
      ]
    },
    {
      "cell_type": "code",
      "execution_count": 32,
      "metadata": {},
      "outputs": [
        {
          "name": "stdout",
          "output_type": "stream",
          "text": [
            "The price of a 10-period defaultable zero-coupon bond with $100 recovery at default: 62.4\n"
          ]
        }
      ],
      "source": [
        "R = 1.00 # $100 (= 100%) recovery \n",
        "q = 1 - default_probability\n",
        "V = default_free_bond_value * q + F*R*(h/(h+r)) * (1-np.exp(-(r+h)*T))\n",
        "print(f\"The price of a 10-period defaultable zero-coupon bond with $100 recovery at default: {round(V, 2)}\")"
      ]
    },
    {
      "cell_type": "markdown",
      "metadata": {},
      "source": [
        "----\n"
      ]
    },
    {
      "cell_type": "markdown",
      "metadata": {},
      "source": [
        "### Problem 2. "
      ]
    },
    {
      "cell_type": "markdown",
      "metadata": {},
      "source": [
        "Consider the interest-only (IO) and principal-only (PO) securities in a deterministic world without prepayments and defaults. These securities have time k cash-flows of $ 𝑃_𝑘 ≔ 𝐵 − 𝑐𝑀_{𝑘−1} $ and $ 𝐼_𝑘 ≔ 𝑐𝑀_{𝑘−1} $, respectively, for k = 1, ⋯ , n and where \n",
        "$ 𝑀_𝑘 $ (and all other notation) is defined in Coursera.\n",
        "\n",
        "(a) Compute the present value, $ 𝑉_0 $, of the PO security        \n",
        "(b) What happens to $ 𝑉_0 $ as n → ∞?         \n",
        "(c) Compute the present value, $ 𝑊_0 $, of the IO security            \n",
        "(d) Which of the two securities do you think has the longer duration? Justify your answer.\n"
      ]
    },
    {
      "cell_type": "markdown",
      "metadata": {},
      "source": [
        "### Solution 2."
      ]
    },
    {
      "cell_type": "markdown",
      "metadata": {},
      "source": [
        "**(a) Compute the present value, $ 𝑉_0 $, of the PO security**"
      ]
    },
    {
      "cell_type": "markdown",
      "metadata": {},
      "source": [
        "$$ M_{k} = (1+c)^kM_0 - B[\\frac{(1+c)^k-1}{c}] \\quad - \\; (1)$$\n",
        "\n",
        "Using (1),\n",
        "$$P_k := B - cM_{k-1} $$\n",
        "$$ = B - c ((1+c)^{k-1}M_0 - B[\\frac{(1+c)^{k-1}-1}{c}]) $$\n",
        "$$ = (B-cM_0)(1+c)^{k-1} \\quad - \\; (2) $$\n",
        "\n",
        "Using (2),\n",
        "$$ V_0 = \\sum_{k=1}^n \\frac{P_k}{(1+r)^k} = \\sum_{k=1}^n \\frac{(B-cM_0)(1+c)^{k-1}}{(1+r)^k} = \\frac{(B-cM_0)}{(1+r)} \\sum_{k=1}^n (\\frac{1+c}{1+r})^{k-1} $$\n",
        "$$ = \\frac{(B-cM_0)}{(1+r)} * \\frac{1 - (\\frac{1+c}{1+r})^n}{1 - \\frac{1+c}{1+r}} = \\frac{(B-cM_0)}{(1+r)} * \\frac{\\frac{(1+r)^n-(1+c)^n}{(1+r)^n}}{\\frac{1+r-1-c}{1+r}} $$\n",
        "$$ ∴ \\; V_0 = (B-cM_0) \\frac{(1+r)^n - (1+c)^n}{(r-c)(1+r)^n} \\quad - \\; (3) $$"
      ]
    },
    {
      "cell_type": "markdown",
      "metadata": {},
      "source": [
        "**(b) What happens to $ 𝑉_0 $ as n → ∞?**"
      ]
    },
    {
      "cell_type": "markdown",
      "metadata": {},
      "source": [
        "$$ B = \\frac {c(1+c)^nM_0}{(1+c)^n-1} \\quad - \\;(4)$$ \n",
        "\n",
        "Using (3) and (4),\n",
        "$$ V_0 = (B-cM_0) \\frac{(1+r)^n - (1+c)^n}{(r-c)(1+r)^n}  $$\n",
        "$$ = \\frac{cM_0}{(1+c)^n -1} * \\frac{(1+r)^n - (1+c)^n}{(r-c)(1+r)^n}  $$\n",
        "\n",
        "Divide the numerator and the denominator by $ (1+c)^n $\n",
        "$$ V_0 = \\frac{cM_0}{(r-c)} * \\frac{\\frac{(1+r)^n - (1+c)^n}{(1+c)^n}}{\\frac{((1+c)^n -1)(1+r)^n}{(1+c)^n}} = \\frac{cM_0}{(r-c)}*\\frac{\\frac{(1+r)^n}{(1+c)^n}-1}{(1-\\frac{1}{(1+c)^n})(1+r)^n} $$\n",
        "\n",
        "In general, r < c to account for the possibility of default, prepayment, servicing fees, profits, payment uncertainty etc.\n",
        "$$ ∴ \\; \\lim_{n→ ∞} \\frac{(1+r)^n}{(1+c)^n} = 0 \\quad - \\; (5) $$ \n",
        "\n",
        "Using (5),\n",
        "$$ ∴ \\lim_{n→ ∞} V_0 = \\lim_{n→ ∞} \\frac{cM_0}{(r-c)}*\\frac{\\frac{(1+r)^n}{(1+c)^n}-1}{(1-\\frac{1}{(1+c)^n})(1+r)^n} = 0 $$\n"
      ]
    },
    {
      "cell_type": "markdown",
      "metadata": {},
      "source": [
        "**(c) Compute the present value, $ 𝑊_0 $, of the IO security**"
      ]
    },
    {
      "cell_type": "markdown",
      "metadata": {},
      "source": [
        "$$ F_0 = \\frac{c(1+c)^nM_0}{(1+c)^n-1} * \\frac{(1+r)^n-1}{r(1+r)^n} \\quad - \\; (1) $$\n",
        "\n",
        "$$ V_0 = \\frac{cM_0}{(1+c)^n -1} * \\frac{(1+r)^n - (1+c)^n}{(r-c)(1+r)^n}  \\quad - \\; (2) $$\n",
        "\n",
        "Using $ W_0 = F_0 - V_0 $          \n",
        "(∵ The principal-only (PO) and interest-only (IO) streams must equal the total value of the mortgage, $ F_0$)\n",
        "$$ W_0 = \\frac{cM_0}{[(1+c)^n-1](1+r)^n} [(1+c)^n \\frac{(1+r)^n-1}{r} - \\frac{(1+r)^n - (1+c)^n}{r-c}] $$"
      ]
    },
    {
      "cell_type": "markdown",
      "metadata": {},
      "source": [
        "**(d) Which of the two securities do you think has the longer duration? Justify your answer.**"
      ]
    },
    {
      "cell_type": "markdown",
      "metadata": {},
      "source": [
        "[Assumption]\n",
        "- no prepayments    \n",
        "\n",
        "The principal stream has a longer duration than the interest stream because larger principal payments occur towards the end of the mortgage, while larger interest payments occur at the beginning."
      ]
    },
    {
      "cell_type": "markdown",
      "metadata": {},
      "source": [
        "---"
      ]
    },
    {
      "cell_type": "markdown",
      "metadata": {},
      "source": [
        "### Problem 3."
      ]
    },
    {
      "cell_type": "markdown",
      "metadata": {},
      "source": [
        "We can define the default intensity, $ λ(t) $ to be \n",
        "$$ λ(t) ≔ \\frac{f_τ(t)}{𝑃(τ > t)} $$\n",
        "where $ τ $ is the time of default and $ f_τ(∙) $ is the $ PDF $ of $ τ $. It therefore follows that $ λ(t) $ dt is \n",
        "equal to the probability of defaulting in the interval $ (t,t + dt) $ given that default has not occurred in $ [0,t] $. Show that\n",
        "$$ P(τ > s) = e^{− ∫_0^S λ(t)dt} $$ "
      ]
    },
    {
      "cell_type": "markdown",
      "metadata": {},
      "source": [
        "### Solution 3."
      ]
    },
    {
      "cell_type": "markdown",
      "metadata": {},
      "source": [
        "**Step 1.**\n",
        "\n",
        "Let’s denote F(t) as the cumulative distribution function (CDF) of the default time τ, \n",
        "$$ F(t)=P(τ≤t) $$ \n",
        "$$ P(τ>t)=1−F(t) $$ \n",
        "The probability density function $ f_τ​(t) $ is the derivative of the CDF, \n",
        "$$ f_τ​(t)=dF(t)/dt $$ \n",
        "\n",
        "**Step 2.**\n",
        "\n",
        "$$  λ(t)= \\frac{f_τ​(t)}{P(τ>t)} =  \\frac{\\frac{dF(f)}{dt}}{1−F(t)} = \\frac{d}{dt}[-ln(1-F(t))] = \\frac{d}{dt}[-lnP(τ>t)] $$ \n",
        "\n",
        "**Step 3.** \n",
        "\n",
        "$$ ∫_0^S ​λ(t)dt = [-lnP(τ>t)]_0^S = −lnP(τ>s) + lnP(τ>0) $$\n",
        "\n",
        "Since P(τ>0)=1 (as default has not occurred at t=0)\n",
        "$$ ∫_0^S ​λ(t)dt = [-lnP(τ>t)]_0^S = −lnP(τ>s) $$\n",
        "\n",
        "**Step 4.** \n",
        "\n",
        "$$ P(τ>s)=e^{−∫_0^S ​λ(t)dt} $$"
      ]
    }
  ],
  "metadata": {
    "kernelspec": {
      "display_name": "fba",
      "language": "python",
      "name": "python3"
    },
    "language_info": {
      "codemirror_mode": {
        "name": "ipython",
        "version": 3
      },
      "file_extension": ".py",
      "mimetype": "text/x-python",
      "name": "python",
      "nbconvert_exporter": "python",
      "pygments_lexer": "ipython3",
      "version": "3.7.16"
    },
    "orig_nbformat": 4
  },
  "nbformat": 4,
  "nbformat_minor": 2
}
