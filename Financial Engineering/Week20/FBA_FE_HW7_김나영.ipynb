{
  "cells": [
    {
      "cell_type": "markdown",
      "metadata": {},
      "source": [
        "# [HW7] FBA QUANT - FINANCIAL ENGINEERING"
      ]
    },
    {
      "cell_type": "markdown",
      "metadata": {},
      "source": [
        "Kim Na Young (dudskrla09@gmail.com)"
      ]
    },
    {
      "cell_type": "markdown",
      "metadata": {},
      "source": [
        "---"
      ]
    },
    {
      "cell_type": "markdown",
      "metadata": {},
      "source": [
        "### Problem 1. \n"
      ]
    },
    {
      "cell_type": "markdown",
      "metadata": {},
      "source": [
        "Download the spreadsheet [EquityDerivsPractice_PSet3.xlsx](https://view.officeapps.live.com/op/view.aspx?src=https%3A%2F%2Fd396qusza40orc.cloudfront.net%2Ffe2%2Fclass_resources%2FEquityDerivsPractice_PSet3.xlsx&wdOrigin=BROWSELINK) from the Course platform. It is also uploaded to the Notion. In the second worksheet,“StockPricePaths”, you will find four new price paths for the security. Now answer the following questions:\n",
        "\n",
        "(a) Compute the annualized realized volatility of the log-returns for price path #1,2,3,4.\n",
        "\n",
        "(b) Compute the total realized P&L when hedging using price path #1,2,3,4. (Note that the total realized P&L in the “DemoSheet” worksheet is in cell B11. It is the \n",
        "final value of the self-financing trading strategy minus the option payoff.)"
      ]
    },
    {
      "cell_type": "markdown",
      "metadata": {},
      "source": [
        "### Solution 1."
      ]
    },
    {
      "cell_type": "markdown",
      "metadata": {},
      "source": [
        "----\n"
      ]
    },
    {
      "cell_type": "markdown",
      "metadata": {},
      "source": [
        "### Problem 2. "
      ]
    },
    {
      "cell_type": "markdown",
      "metadata": {},
      "source": [
        "Consider the following stock. \n",
        "\n",
        "> Time to expiration : 6 months\n",
        "\n",
        "> Standard deviation : 50% per year\n",
        "\n",
        "> Exercise price : $50\n",
        "\n",
        "> Stock price : $50\n",
        "\n",
        "> Annual interest rate : 3%\n",
        "\n",
        "> Dividend : 0\n",
        "\n",
        "(a) Use the Black-Scholes formula to find the value of a call option and put option on the given stock.\n",
        "\n",
        "(b) Describe what would be the change in the price of the call option if each parameter was changed independently. (Substituting one parameter while keeping the other parameters. Don’t consider about Dividend.)\n"
      ]
    },
    {
      "cell_type": "markdown",
      "metadata": {},
      "source": [
        "### Solution 2."
      ]
    },
    {
      "cell_type": "markdown",
      "metadata": {},
      "source": [
        "**(a) Use the Black-Scholes formula to find the value of a call option and put option on the given stock.**\n",
        "\n",
        "- S = $50\n",
        "- K = $50\n",
        "- r = 0.03 (= 3%)\n",
        "- T = 0.5 (= 6 months)\n",
        "- σ = 0.5 (= 50% per year)\n",
        "- c = 0\n",
        "\n",
        "(1) Call option\n",
        "$$ C = S e^{-cT}N(d_1) - Ke^{-rT}N(d_2) \\;\\; (\\; N(d) = P(N(0,1) ≤ d) \\; )$$\n",
        "\n",
        "$$ (1) \\;\\; d_1 = \\frac{log(\\frac{S}{k}) + (r-c+\\frac{σ^2}{2})*T}{σ\\sqrt{T}} = \\frac{log(\\frac{\\$50}{\\$50}) + (0.03-0+\\frac{0.5^2}{2})*0.5}{0.5\\sqrt{0.5}} $$\n",
        "\n",
        "$$ (2) \\;\\; d_2 = d_1 - σ\\sqrt{T} = d_1 - 0.5\\sqrt{0.5} $$"
      ]
    },
    {
      "cell_type": "code",
      "execution_count": 4,
      "metadata": {},
      "outputs": [
        {
          "name": "stdout",
          "output_type": "stream",
          "text": [
            "d1 : 0.2192031021678297 | d2 : -0.13435028842544408\n",
            "N(d1) : 0.5867540804663901 | N(d2) : 0.446562794621655\n"
          ]
        }
      ],
      "source": [
        "import math\n",
        "from scipy.stats import norm\n",
        "\n",
        "# (0) Define variables\n",
        "S = 50\n",
        "K = 50\n",
        "r = 0.03 \n",
        "T = 0.5 \n",
        "sigma = 0.5 \n",
        "c = 0\n",
        "\n",
        "# (1) d1\n",
        "d1 = ( math.log(S/K) + (r - c + (sigma ** 2) / 2) * T ) / ( sigma * math.sqrt(T) )\n",
        "\n",
        "# (2) d2\n",
        "d2 = d1 - sigma * math.sqrt(T)\n",
        "\n",
        "# (3) N(d1)\n",
        "def N(d):\n",
        "    return norm.cdf(d, loc=0, scale=1)\n",
        "\n",
        "N_d1 = N(d1)\n",
        "\n",
        "# (4) N(d2)\n",
        "N_d2 = N(d2)\n",
        "\n",
        "print(f\"d1 : {d1} | d2 : {d2}\")\n",
        "print(f\"N(d1) : {N(d1)} | N(d2) : {N(d2)}\")"
      ]
    },
    {
      "cell_type": "code",
      "execution_count": 3,
      "metadata": {},
      "outputs": [
        {
          "name": "stdout",
          "output_type": "stream",
          "text": [
            "The value of call option: 7.3419869851043735\n"
          ]
        }
      ],
      "source": [
        "C =  S * math.exp(-c * T) * N_d1 - K * math.exp(-r * T) * N_d2\n",
        "\n",
        "print(f\"The value of call option: {C}\")"
      ]
    },
    {
      "cell_type": "markdown",
      "metadata": {},
      "source": [
        "(2) Put option\n",
        "\n",
        "Put option price can be calculated from put-call parity,\n",
        "\n",
        "$$ P + Se^{-cT} = C + Ke^{-rT} $$\n",
        "\n",
        "$$ ∴ \\; P = C + Ke^{-rT} - Se^{-cT} = Ke^{-rT}(1-N(d_2)) - S e^{-cT}(1-N(d_1)) $$"
      ]
    },
    {
      "cell_type": "code",
      "execution_count": 2,
      "metadata": {},
      "outputs": [
        {
          "name": "stdout",
          "output_type": "stream",
          "text": [
            "The value of put option: 6.597583965257503\n"
          ]
        }
      ],
      "source": [
        "P =  K * math.exp(-r * T) * (1 - N_d2) - S * math.exp(-c * T) * (1 - N_d1)\n",
        "\n",
        "print(f\"The value of put option: {P}\")"
      ]
    },
    {
      "cell_type": "markdown",
      "metadata": {},
      "source": [
        "**(b) Describe what would be the change in the price of the call option if each parameter was changed independently. (Substituting one parameter while keeping the other parameters. Don’t consider about Dividend.)**"
      ]
    },
    {
      "cell_type": "code",
      "execution_count": 5,
      "metadata": {},
      "outputs": [],
      "source": [
        "import math\n",
        "from scipy.stats import norm\n",
        "\n",
        "def calculate_call_option(S, K, r, T, sigma):\n",
        "    # (1) d1\n",
        "    d1 = ( math.log(S/K) + (r - c + (sigma ** 2) / 2) * T ) / ( sigma * math.sqrt(T) )\n",
        "\n",
        "    # (2) d2\n",
        "    d2 = d1 - sigma * math.sqrt(T)\n",
        "    \n",
        "    # (3) N(d1)\n",
        "    N_d1 = N(d1)\n",
        "\n",
        "    # (4) N(d2)\n",
        "    N_d2 = N(d2)\n",
        "    \n",
        "    # (5) C \n",
        "    C =  S * math.exp(-c * T) * N_d1 - K * math.exp(-r * T) * N_d2\n",
        "    return C\n",
        "\n",
        "def N(d):\n",
        "    return norm.cdf(d, loc=0, scale=1)"
      ]
    },
    {
      "cell_type": "markdown",
      "metadata": {},
      "source": [
        "(1) Time to expiration : 6 months"
      ]
    },
    {
      "cell_type": "code",
      "execution_count": 12,
      "metadata": {},
      "outputs": [
        {
          "name": "stdout",
          "output_type": "stream",
          "text": [
            "Time to expiration : 3 months | The value of call option : $5.144257137236064\n",
            "Time to expiration : 6 months | The value of call option : $7.3419869851043735\n",
            "Time to expiration : 9 months | The value of call option : $9.042485985320514\n"
          ]
        }
      ],
      "source": [
        "# Define variables\n",
        "S = 50\n",
        "K = 50\n",
        "r = 0.03 \n",
        "list_T = [0.25, 0.5, 0.75] # 3 months, 6 months, 9 months \n",
        "sigma = 0.5 \n",
        "c = 0\n",
        "\n",
        "for T in list_T:\n",
        "    print(f\"Time to expiration : {int(T * 12)} months | The value of call option : ${calculate_call_option(S, K, r, T, sigma)}\")"
      ]
    },
    {
      "cell_type": "markdown",
      "metadata": {},
      "source": [
        "(2) Standard deviation : 50% per year"
      ]
    },
    {
      "cell_type": "code",
      "execution_count": 13,
      "metadata": {},
      "outputs": [
        {
          "name": "stdout",
          "output_type": "stream",
          "text": [
            "Standard deviation : 0.3 | The value of call option : $4.57469928882983\n",
            "Standard deviation : 0.5 | The value of call option : $7.3419869851043735\n",
            "Standard deviation : 0.7 | The value of call option : $10.077258327140022\n"
          ]
        }
      ],
      "source": [
        "# Define variables\n",
        "S = 50\n",
        "K = 50\n",
        "r = 0.03 \n",
        "T = 0.5 \n",
        "list_sigma = [0.3, 0.5, 0.7] \n",
        "c = 0\n",
        "\n",
        "for sigma in list_sigma:\n",
        "    print(f\"Standard deviation : {sigma} | The value of call option : ${calculate_call_option(S, K, r, T, sigma)}\")"
      ]
    },
    {
      "cell_type": "markdown",
      "metadata": {},
      "source": [
        "(3) Exercise price : $50"
      ]
    },
    {
      "cell_type": "code",
      "execution_count": 14,
      "metadata": {},
      "outputs": [
        {
          "name": "stdout",
          "output_type": "stream",
          "text": [
            "Exercise price : $30 | The value of call option : $20.852062023257144\n",
            "Exercise price : $50 | The value of call option : $7.3419869851043735\n",
            "Exercise price : $70 | The value of call option : $2.0302250901917596\n"
          ]
        }
      ],
      "source": [
        "# Define variables\n",
        "S = 50\n",
        "list_K = [30, 50, 70]\n",
        "r = 0.03 \n",
        "T = 0.5 \n",
        "sigma = 0.5 \n",
        "c = 0\n",
        "\n",
        "for K in list_K:\n",
        "    print(f\"Exercise price : ${K} | The value of call option : ${calculate_call_option(S, K, r, T, sigma)}\")"
      ]
    },
    {
      "cell_type": "markdown",
      "metadata": {},
      "source": [
        "(4) Stock price : $50"
      ]
    },
    {
      "cell_type": "code",
      "execution_count": 7,
      "metadata": {},
      "outputs": [
        {
          "name": "stdout",
          "output_type": "stream",
          "text": [
            "Stock price : $30 | The value of call option : $0.4902595813161357\n",
            "Stock price : $50 | The value of call option : $7.3419869851043735\n",
            "Stock price : $70 | The value of call option : $22.476307262561193\n"
          ]
        }
      ],
      "source": [
        "# Define variables\n",
        "list_S = [30, 50, 70]\n",
        "K = 50\n",
        "r = 0.03 \n",
        "T = 0.5 \n",
        "sigma = 0.5 \n",
        "c = 0\n",
        "\n",
        "for S in list_S:\n",
        "    print(f\"Stock price : ${S} | The value of call option : ${calculate_call_option(S, K, r, T, sigma)}\")"
      ]
    },
    {
      "cell_type": "markdown",
      "metadata": {},
      "source": [
        "(5) Annual interest rate : 3%"
      ]
    },
    {
      "cell_type": "code",
      "execution_count": 18,
      "metadata": {},
      "outputs": [
        {
          "name": "stdout",
          "output_type": "stream",
          "text": [
            "Annual interest rate : 3.0% | The value of call option : $7.3419869851043735\n",
            "Annual interest rate : 7.5% | The value of call option : $7.845133645490627\n",
            "Annual interest rate : 10.0% | The value of call option : $8.131599054232979\n"
          ]
        }
      ],
      "source": [
        "# Define variables\n",
        "S = 50\n",
        "K = 50\n",
        "list_r = [0.03, 0.075, 0.1] \n",
        "T = 0.5 \n",
        "sigma = 0.5\n",
        "c = 0\n",
        "\n",
        "for r in list_r:\n",
        "    print(f\"Annual interest rate : {r*100}% | The value of call option : ${calculate_call_option(S, K, r, T, sigma)}\")"
      ]
    },
    {
      "cell_type": "markdown",
      "metadata": {},
      "source": [
        "---"
      ]
    },
    {
      "cell_type": "markdown",
      "metadata": {},
      "source": [
        "### Problem 3."
      ]
    },
    {
      "cell_type": "markdown",
      "metadata": {},
      "source": [
        "Show that for a European call or put on a non-dividend-paying stock\n",
        "\n",
        "\n",
        "$$ Γ = \\frac{N'(d_1)}{Sσ\\sqrt{T}} $$\n",
        "\n",
        "$$ θ = -\\frac{SN'(d_1)σ}{2\\sqrt{T}} - rKe^{-rT}N(d_2) $$"
      ]
    },
    {
      "cell_type": "markdown",
      "metadata": {},
      "source": [
        "### Solution 3."
      ]
    },
    {
      "cell_type": "markdown",
      "metadata": {},
      "source": [
        "(1) Gamma\n",
        "\n",
        "$$ Γ = \\frac{∂^2C}{∂S^2} = \\frac{∂}{∂S} (\\frac{∂C}{∂S}) = \\frac{∂}{∂S} (\\frac{∂(SN(d_1) - Ke^{-rT}N(d_2))}{∂S}) = \\frac{∂}{∂S}(N(d_1)) $$\n",
        "$$ = N'(d_1) \\frac{∂(d_1)}{∂S} = N'(d_1) \\frac{∂(\\frac{ln(\\frac{S}{k}) + (r+\\frac{σ^2}{2})*T}{σ\\sqrt{T}})}{∂S} = \\frac{N'(d_1)}{Sσ\\sqrt{T}}$$"
      ]
    },
    {
      "attachments": {
        "image.png": {
          "image/png": "[encoded data removed]"
        }
      },
      "cell_type": "markdown",
      "metadata": {},
      "source": [
        "(2) Theta\n",
        "\n",
        "Using Exercise 6,\n",
        "\n",
        "![image.png](attachment:image.png)\n",
        "\n",
        "$$ θ + rSΔ + \\frac{1}{2}σ^2S^2Γ = rP $$\n",
        "\n",
        "$$ θ = rP - rSΔ - \\frac{1}{2}σ^2S^2Γ $$ \n",
        "$$ = r (SN(d_1) - Ke^{-rT}N(d_2)) - rSN(d_1) - \\frac{1}{2}σ^2S^2\\frac{N'(d_1)}{Sσ\\sqrt{T}} \\;\\; (\\; ∵ Δ = N(d_1) \\; )$$\n",
        "$$ = -\\frac{SN'(d_1)σ}{2\\sqrt{T}} - rKe^{-rT}N(d_2) $$\n",
        "\n",
        "&nbsp;\n",
        " \n",
        "(sol2 - question)\n",
        "$$ θ = - \\frac{∂C}{∂T} = - \\frac{∂(SN(d_1) - Ke^{-rT}N(d_2))}{∂T} = - \\frac{∂(SN(d_1))}{∂T} + \\frac{∂(Ke^{-rT}N(d_2))}{∂T} $$\n",
        "\n",
        "$$ = - SN'(d_1)\\frac{∂(d_1)}{∂T} + (-rKe^{-rT}N(d_2) + Ke^{-rT}N'(d_2)\\frac{∂(d_2)}{∂T} ) $$\n",
        "$$ = ( - SN'(d_1)\\frac{∂(d_1)}{∂T} + Ke^{-rT}N'(d_2)\\frac{∂(d_2)}{∂T} ) -rKe^{-rT}N(d_2)  $$\n",
        "$$ = SN'(d_1)(\\frac{∂(d_2)}{∂T} - \\frac{∂(d_1)}{∂T}) -rKe^{-rT}N(d_2) \\;\\; - \\; (?) $$\n",
        "$$ = SN'(d_1)(\\frac{∂(d_1 - σ\\sqrt{T})}{∂T} - \\frac{∂(d_1)}{∂T}) -rKe^{-rT}N(d_2) $$\n",
        "$$ = -\\frac{SN'(d_1)σ}{2\\sqrt{T}} - rKe^{-rT}N(d_2) $$"
      ]
    },
    {
      "cell_type": "markdown",
      "metadata": {},
      "source": [
        "---"
      ]
    },
    {
      "cell_type": "markdown",
      "metadata": {},
      "source": [
        "### Problem 4."
      ]
    },
    {
      "cell_type": "markdown",
      "metadata": {},
      "source": [
        "You have to price a European call option either with a constant volatility 30% or by drawing volatility from a random distribution with a mean of 30%. Which option would be more expensive? (Use Vega to solve the problem.)"
      ]
    },
    {
      "cell_type": "markdown",
      "metadata": {},
      "source": [
        "### Solution 4."
      ]
    },
    {
      "cell_type": "markdown",
      "metadata": {},
      "source": [
        "(Reference from [Textbook] A Practical Guide to Quantitative Finance Interviews : Chapter 6.2 Greeks)\n",
        "\n",
        "Mathematically, the underlying argument is that the price of a European call option is **a convex function of volatility** and as a result $ c(E[σ]) ≤ E[c(σ)]$, where σ is the random variable representing volatility and e is the call option price. \n",
        "\n",
        "&nbsp;\n",
        "\n",
        "Is the underlying argument correct? It's correct in most, but not all, cases. If the call price e is always a convex function of σ, then $ \\frac{∂^2c}{∂σ^2} ≥ 0$. $ \\frac{∂c}{∂σ} $ is the Vega of the option. For a European call option, \n",
        "\n",
        "$$ ν = \\frac{∂c}{∂σ} = S \\sqrt{τ}N'(d+1) = \\frac{S\\sqrt{τ}}{\\sqrt{2π}} e^{-\\frac{d_1^2}{2}}. $$\n",
        "\n",
        "\n",
        "The secondary partial derivative is called Volga. For a European call option, \n",
        "$$ \\frac{∂^2c}{∂σ^2} = \\frac{S \\sqrt{τ}}{\\sqrt{2π}}e^{-\\frac{d_1^2}{2}}\\frac{d_1d_2}{σ} = ν\\frac{d_1d_2}{σ} $$\n",
        "$ν$ is always positive. For most out-of-the-money call options, both $d_1$ and $d_2$ are negative; for most in-the-money call options, both $d_1$ and $d_2$ are positive. So $d_1d_2 > 0$ in most cases and e is a convex function of a when $d_1d_2 > 0$. \n",
        "\n",
        "&nbsp;\n",
        "\n",
        "But theoretically, we can have conditions that $d_1 > 0$ and $d_2 < 0$ and $ \\frac{∂^2c}{∂σ^2}< 0 $ when the option is close to being at-the-money. So the function is not always convex. In those cases, the option with \n",
        "constant volatility may have a higher value. "
      ]
    }
  ],
  "metadata": {
    "kernelspec": {
      "display_name": "fba",
      "language": "python",
      "name": "python3"
    },
    "language_info": {
      "codemirror_mode": {
        "name": "ipython",
        "version": 3
      },
      "file_extension": ".py",
      "mimetype": "text/x-python",
      "name": "python",
      "nbconvert_exporter": "python",
      "pygments_lexer": "ipython3",
      "version": "3.7.16"
    },
    "orig_nbformat": 4
  },
  "nbformat": 4,
  "nbformat_minor": 2
}
