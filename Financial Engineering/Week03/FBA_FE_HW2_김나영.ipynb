{
  "cells": [
    {
      "cell_type": "markdown",
      "metadata": {},
      "source": [
        "# [HW2] FBA QUANT - FINANCIAL ENGINEERING"
      ]
    },
    {
      "cell_type": "markdown",
      "metadata": {},
      "source": [
        "Kim Na Young (dudskrla09@gmail.com)"
      ]
    },
    {
      "cell_type": "markdown",
      "metadata": {},
      "source": [
        "---"
      ]
    },
    {
      "cell_type": "markdown",
      "metadata": {},
      "source": [
        "### Problem 1. \n"
      ]
    },
    {
      "cell_type": "markdown",
      "metadata": {},
      "source": [
        "There are three bonds in the market as follows:    \n",
        "    1. A bond with 4% coupon rate (paid annually), 10 years to maturity, and $1,000 face value    \n",
        "    2. A bond with 4% plus current (short) rate (paid annually), 10 years to maturity, and $1,000 face value    \n",
        "    3. A bond with 8% minus current (short) rate (paid annually), 10 years to maturity, and $1,000 face value    \n",
        "    \n",
        "The prices of the bonds are $950, $1,100, and $900, respectively.\n",
        "\n",
        "(a) Derive the price of a zero-coupon bond with 10 years to maturity and $1,000 face value.    \n",
        "(b) Derive the price of a floating-rate bond (coupon paid annually) with 10 years to maturity and $1,000 face value."
      ]
    },
    {
      "cell_type": "markdown",
      "metadata": {},
      "source": [
        "> zero-coupon bond \n",
        "\n",
        "A zero-coupon bond is a bond that lends the principal amount without paying coupon.    \n",
        "→ only return ***the principal amount.***\n",
        "\n",
        "> floating-rate bond \n",
        "\n",
        "A floating-rate bond is a bond with an interest rate that is not fixed but adjusts at regular intervals, typically tied to the current market interest rates.     \n",
        "→ make ***interest payments***, with the interest rate fluctuating based on market conditions."
      ]
    },
    {
      "cell_type": "markdown",
      "metadata": {},
      "source": [
        "### Solution 1."
      ]
    },
    {
      "cell_type": "markdown",
      "metadata": {},
      "source": [
        "- **(a) Derive the price of a zero-coupon bond with 10 years to maturity and $1,000 face value.**\n",
        "\n",
        "$$ the \\; Price \\; of \\; a \\; zero \\; coupon \\; bond = \\frac{F}{(1 \\; + \\; r)^T} $$\n",
        "\n",
        "\n",
        "1. A bond with 4% coupon rate (paid annually), 10 years to maturity, and $1,000 face value\n",
        "    - Face value (F) : $1,000\n",
        "    - Coupon rate (α) : 4% = 0.04\n",
        "    - Maturity date (T) : 10 years \n",
        "    - Price (P) : $950\n",
        "\n",
        "$$ Coupon \\; (c) = α * F = 0.04 * \\$1,000 = \\$40 $$ \n",
        "$$ (1) \\; P = \\frac{F}{(1+r)^T} + \\sum_{t=1}^{T}\\frac{c}{(1+r)^t} = \\$950 = \\frac{\\$1,000}{(1+r)^{10}} + \\sum_{t=1}^{10}\\frac{\\$40}{(1+r)^t}  $$\n",
        "\n",
        "2. A bond with 4% plus current (short) rate (paid annually), 10 years to maturity, and $1,000 face value    \n",
        "    - Face value (F) : $1,000\n",
        "    - Coupon rate (c) : 4% + current rate \n",
        "    - Maturity date (T) : 10 years \n",
        "    - Price (P) : $1,100\n",
        "\n",
        "$$ Coupon \\; (c) = α * F = (0.04+r_t) * \\$1,000 = \\$40 +c_t \\; (c_t = r_t * \\$1,000) $$  \n",
        "$$ (2) \\; P = \\frac{F}{(1+r)^T} + \\sum_{t=1}^{T}\\frac{c}{(1+r)^t} = \\$1,100 = \\frac{\\$1,000}{(1+r)^{10}} + \\sum_{t=1}^{10}\\frac{\\$40 +c_t}{(1+r)^t} $$\n",
        "\n",
        "3. A bond with 8% minus current (short) rate (paid annually), 10 years to maturity, and $1,000 face value    \n",
        "    - Face value (F) : $1,000\n",
        "    - Coupon rate (c) : 8% - current rate \n",
        "    - Maturity date (T) : 10 years \n",
        "    - Price (P) : $900\n",
        "\n",
        "$$ Coupon \\; (c) = α * F = (0.08-r_t) * \\$1,000 = \\$80 - c_t \\; (c_t = r_t * \\$1,000) $$  \n",
        "$$ (3) \\; P = \\frac{F}{(1+r)^T} + \\sum_{t=1}^{T}\\frac{c}{(1+r)^t} = \\$900 = \\frac{\\$1,000}{(1+r)^{10}} + \\sum_{t=1}^{10}\\frac{\\$80 - c_t}{(1+r)^t} $$\n",
        "\n",
        "> Zero-coupon bond\n",
        "\n",
        "\n",
        "$$ Price \\; of \\; a \\; zero \\; coupon \\; bond = \\frac{F}{(1 \\; + \\; r)^T} = \\frac{1000}{(1+r)^{10}} $$\n",
        "\n",
        "We have to find $ \\frac{1000}{(1+r)^{10}} $.\n",
        "\n",
        "To remove $ \\sum_{t=1}^{10}\\frac{c_t}{(1+r)^t} $, combine (2) + (3). \n",
        "$$ (4) $$\n",
        "$$ (2) \\;\\; \\{ \\$1,100 = \\frac{\\$1,000}{(1+r)^{10}} + \\sum_{t=1}^{10}\\frac{\\$40 +c_t}{(1+r)^t} \\}$$\n",
        "$$ + \\; (3) \\;\\; \\{ \\$900 = \\frac{\\$1,000}{(1+r)^{10}} + \\sum_{t=1}^{10}\\frac{\\$80 - c_t}{(1+r)^t} \\}$$ \n",
        "$$ = \\$2,000 = \\frac{\\$2,000}{(1+r)^{10}} + \\sum_{t=1}^{10}\\frac{\\$120}{(1+r)^t} $$\n",
        "\n",
        "To find format $ \\frac{1000}{(1+r)^{10}} $, subtract (1)*3 - (4) (To remove $\\sum$) \n",
        "$$ (1)*3 \\;\\; \\{ \\$2,850 = \\frac{\\$3,000}{(1+r)^{10}} + \\sum_{t=1}^{10}\\frac{\\$120}{(1+r)^t} \\} $$\n",
        "$$ - \\; (4) \\;\\; \\{ \\$2,000 = \\frac{\\$2,000}{(1+r)^{10}} + \\sum_{t=1}^{10}\\frac{\\$120}{(1+r)^t} \\}$$\n",
        "$$ = \\$850 = \\frac{\\$1,000}{(1+r)^{10}}$$"
      ]
    },
    {
      "cell_type": "markdown",
      "metadata": {},
      "source": [
        "- **(b) Derive the price of a floating-rate bond (coupon paid annually) with 10 years to maturity and $1,000 face value.**\n",
        "\n",
        "$$ Price \\; of \\; a \\; floating \\; rate \\; bond = Face \\; value = \\$1,000 $$"
      ]
    },
    {
      "cell_type": "markdown",
      "metadata": {},
      "source": [
        "---"
      ]
    },
    {
      "cell_type": "markdown",
      "metadata": {},
      "source": [
        "### Problem 2. "
      ]
    },
    {
      "cell_type": "markdown",
      "metadata": {},
      "source": [
        "Under continuous compounding the Macaulay duration becomes\n",
        "\n",
        "$$ D = \\frac{\\sum_{k=0}^{n}{t_ke^{-λt_k}c_k}}{P} $$ \n",
        "\n",
        "Where λ is the yield and \n",
        "\n",
        "$$ P = \\sum_{k=0}^n{e^{-λt_k}c_k} $$\n",
        "\n",
        "Find dP/dλ in terms of D and P.\n"
      ]
    },
    {
      "cell_type": "markdown",
      "metadata": {},
      "source": [
        "### Solution 2."
      ]
    },
    {
      "cell_type": "markdown",
      "metadata": {},
      "source": [
        "$$ \\frac{dP}{dλ} = \\frac{d (\\sum_{k=0}^n{e^{-λt_k}c_k}) }{dλ} = \\sum_{k=0}^n{ \\frac{d (e^{-λt_k}c_k) }{dλ} }= \\sum_{k=0}^n{(-t_k)*e^{-λt_k}c_k} $$\n",
        "\n",
        "So, the numerate of D equals to $ -\\frac{dP}{dλ} $\n",
        "\n",
        "$$ ∴ \\frac{dP}{dλ} = -DP $$"
      ]
    },
    {
      "cell_type": "markdown",
      "metadata": {},
      "source": [
        "### Problem 3."
      ]
    },
    {
      "cell_type": "markdown",
      "metadata": {},
      "source": [
        "Mr A. Gaylord manages a pension fund and believes that the his stock selection ability is excellent. However, he is worried because the market could go down. He considers entering an equity swap where each quarter i, up to quarter M, he pays counterparty B the previous quarters total rate of return $𝑟_𝑖$ on the S&P 500 index times some notional principal and receives payments at a fixed rate r on the same principal. The total rate of return includes dividends. Specifically, $ 1 + 𝑟_𝑖 = \\frac{(𝑆_𝑖 + 𝑑_𝑖)}{S_{𝑖−1}} $,where $𝑆_𝑖$ and $𝑑_𝑖$ are the values of the index at i and the dividends received from i − 1 to i, respectively. Derive the value of such a swap by the following steps:\n",
        "\n",
        "(a) Let $ 𝑉_{𝑖−1}(𝑆_𝑖 + 𝑑_𝑖) $ denote the value at time i − 1 of receiving $ 𝑆_𝑖 + 𝑑_i $ at time i. Argue that $ 𝑉_{𝑖−1}(𝑆_𝑖 + 𝑑_𝑖) = 𝑆_{𝑖−1} $ and find $ 𝑉_{𝑖−1}(𝑟_𝑖) $    \n",
        "(b) Find $𝑉_0(𝑟_𝑖)$    \n",
        "(c) Find $ \\sum_{i=1}^M{V_0(r_i)} $    \n",
        "(d) Find the value of the swap    "
      ]
    },
    {
      "cell_type": "markdown",
      "metadata": {},
      "source": [
        "### Solution 3."
      ]
    },
    {
      "cell_type": "markdown",
      "metadata": {},
      "source": []
    },
    {
      "cell_type": "markdown",
      "metadata": {},
      "source": [
        "### Problem 4.\n"
      ]
    },
    {
      "cell_type": "markdown",
      "metadata": {},
      "source": [
        "Farmer D. Jones has a crop of grapefruit juice that will be ready for harvest and sale as 150,000 pounds of grapefruit juice in 3 months. Jones is worried about possible price changes, so he is considering hedging. There is no futures contract for grapefruit juice, but there is a futures contract for orange juice. His son, Gavin, recently studied minimum-variance hedging and suggests it as a possible approach. Currently the spot prices are $1.20 per pound for orange juice and $1.50 per pound for grapefruit juice. The standard deviation of the prices of orange juice and grapefruit juice is about 20% per year, and the correlation coefficient between them is about .7. \n",
        "\n",
        "(a) What is the minimum variance hedge for farmer Jones, and (b) how effective is this hedge as compared to no hedge?"
      ]
    },
    {
      "cell_type": "markdown",
      "metadata": {},
      "source": [
        "### Solution 4."
      ]
    },
    {
      "attachments": {
        "image-2.png": {
          "image/png": "[encoded data removed]"
        }
      },
      "cell_type": "markdown",
      "metadata": {},
      "source": [
        "\n",
        "> Correlation coefficient (ρ)\n",
        "\n",
        "$$ ρ_{A, B} = \\frac{cov(A, B)}{std(A)*std(B)} $$ \n",
        "\n",
        "- **(a) What is the minimum variance hedge for farmer Jones?**\n",
        "\n",
        "$$ Minimum \\; variance \\; hedge \\; ratio = β = \\frac{cov(S_T, F_T)}{var(F_T)} = \\frac{cov(S_T, F_T)}{std(F_T)^2} = \\frac{cov(S_T, F_T)}{std(F_T)*std(S_T)} * \\frac{std(S_T)}{std(F_T)} = ρ_{S_T, F_T} * \\frac{std(S_T)}{std(F_T)} $$ \n",
        "\n",
        "$$ W = \\frac{Q_A}{Q_F} = \\frac{The \\; size \\; of \\;spot \\;position  \\; being \\; hedged }{The \\; size \\; of \\; one \\; futures \\; contract} $$ \n",
        "\n",
        "- The size of spot position ($Q_A$) : $150,000\n",
        "- Spot price\n",
        "    - Grapefruit juice ($S_T$): $1.50 per pound \n",
        "    - Orange juice ($F_T$): $1.20 per pound     \n",
        "    → The size of one futures contract ($Q_F$) : $\\frac{\\$1.20}{\\$1.50}$\n",
        "- Standard deviation \n",
        "    - Grapefruit juice (std($S_T$)): 20% = 0.02\n",
        "    - Orange juice (std($F_T$)): 20% = 0.02\n",
        "- Correlation coefficient (ρ) : 0.7\n",
        "\n",
        "$$ h = β*W = -0.7 * \\frac{\\$1.20}{\\$1.50} * \\$150,000 = \\$131,250 $$ \n",
        "\n",
        "- W : selling amount \n",
        "- $S_T$ : spot price \n",
        "- $F_T$ : future spot price\n",
        "\n",
        "- **(b) How effective is this hedge as compared to no hedge?**\n",
        "\n",
        "![image-2.png](attachment:image-2.png)\n",
        "$$ \\sigma_{hedge} = \\sqrt{1-ρ^2}*\\sigma_{no-hedge} $$\n",
        "$$ = \\sqrt{1-(0.7)^2}*\\sigma_{no-hedge} ≈ 0.71414284285*\\sigma_{no-hedge} $$\n",
        "\n",
        "the minimum-variance hedge reduces risks by a factor of 0.714 "
      ]
    },
    {
      "cell_type": "markdown",
      "metadata": {},
      "source": [
        "### Problem 5.\n"
      ]
    },
    {
      "cell_type": "markdown",
      "metadata": {},
      "source": [
        "A rabbit sits at the bottom of a staircase with n stairs. The rabbit can hop up only one or two or three stairs at a time. How many different combinations are there for the rabbit to ascend to the top of the stairs? Try to solve this problem with Python using recursive function."
      ]
    },
    {
      "cell_type": "markdown",
      "metadata": {},
      "source": [
        "### Solution 5."
      ]
    },
    {
      "cell_type": "code",
      "execution_count": 2,
      "metadata": {},
      "outputs": [
        {
          "name": "stdout",
          "output_type": "stream",
          "text": [
            "The number of ways that the rabbit can hop up : 274\n"
          ]
        }
      ],
      "source": [
        "def hop_up(n):\n",
        "    if int(n) != n:\n",
        "        return 0\n",
        "    if n <= 0:\n",
        "        return 0\n",
        "    \n",
        "    if n == 1:\n",
        "        return 1\n",
        "    if n == 2:\n",
        "        return 2\n",
        "    if n == 3:\n",
        "        return 4\n",
        "    \n",
        "    return hop_up(n - 1) + hop_up(n - 2) + hop_up(n - 3)\n",
        "\n",
        "n =  10 # INPUT \n",
        "print(f\"The number of ways that the rabbit can hop up : {hop_up(n)}\")"
      ]
    }
  ],
  "metadata": {
    "kernelspec": {
      "display_name": "fba",
      "language": "python",
      "name": "python3"
    },
    "language_info": {
      "codemirror_mode": {
        "name": "ipython",
        "version": 3
      },
      "file_extension": ".py",
      "mimetype": "text/x-python",
      "name": "python",
      "nbconvert_exporter": "python",
      "pygments_lexer": "ipython3",
      "version": "3.10.12"
    },
    "orig_nbformat": 4
  },
  "nbformat": 4,
  "nbformat_minor": 2
}
