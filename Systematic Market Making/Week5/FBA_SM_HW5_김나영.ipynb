{
  "cells": [
    {
      "cell_type": "markdown",
      "metadata": {},
      "source": [
        "# [HW5] FBA QUANT - SYSTEMATIC MARKET MAKING"
      ]
    },
    {
      "cell_type": "markdown",
      "metadata": {},
      "source": [
        "Kim Na Young (dudskrla09@gmail.com)"
      ]
    },
    {
      "cell_type": "markdown",
      "metadata": {},
      "source": [
        "---"
      ]
    },
    {
      "cell_type": "markdown",
      "metadata": {},
      "source": [
        "### Problem 1. Moment Generating Function\n"
      ]
    },
    {
      "cell_type": "markdown",
      "metadata": {},
      "source": [
        "Let $ X $ be a random variable. The moment generating function of $ X $ (denoted by $ M_X $ ) is defined by $ M_X (t)=Ee^{tX} $. It is certainly possible that $ M_X (t)=∞ $ for some t, but for this problem we assume that $ M_X (t) $ is finite in some small interval containing 0 .\n",
        "\n",
        "(a) If $ M_X $ is infinitely differentiable, find a relationship between the $ n^{th} $ derivative of $ M_X $ and $ EX^n $. Provide some reasoning.\n",
        "\n",
        "(b) If $ X∼Exp⁡(λ) $, compute $ M_X (t) $ for every $ t∈R $.\n",
        "\n",
        "(c) If $ X∼N(μ,σ^2 ) $ compute $ M_X (t) $ for all $ t∈R $.\n"
      ]
    },
    {
      "cell_type": "markdown",
      "metadata": {},
      "source": [
        "### Solution 1."
      ]
    },
    {
      "cell_type": "markdown",
      "metadata": {},
      "source": [
        "**(a) If $ M_X $ is infinitely differentiable, find a relationship between the $ n^{th} $ derivative of $ M_X $ and $ EX^n $. Provide some reasoning.**\n",
        "\n",
        "- (1) $ M_X $ is ***infinitely differentiable*** \n",
        "\n",
        "- (2) $ M_X (t) $ is ***finite*** in some small interval ***containing 0***\n",
        "\n",
        "→ can be written as ***Talyor series***\n",
        "\n",
        "$$ e^x=∑_{n=0}^∞ \\frac{1}{n!} x^n = 1 + x + \\frac{1}{2!}x^2 + \\frac{1}{3!}x^3 + ... $$\n",
        "\n",
        "$$ e^{tx} =∑_{n=0}^∞ \\frac{1}{n!} (tx)^n = 1 + tx + \\frac{1}{2!}(tx)^2 + \\frac{1}{3!}(tx)^3 + ... $$\n",
        "\n",
        "$$ M_X(t) = Ee^{tx} =E[∑_{n=0}^∞ \\frac{1}{n!} (tx)^n] = E[1] + E[tx] + E[\\frac{1}{2!}(tx)^2] + E[\\frac{1}{3!}(tx)^3] + ... $$\n",
        "\n",
        "$$ = 1 + (t)*E[x] + (\\frac{1}{2!}t^2)*E[x^2] + (\\frac{1}{3!}t^3)*E[x^3] + ... $$\n",
        "\n",
        "$$ ∴ \\; M_X^{(n)}(0) = EX^n$$"
      ]
    },
    {
      "cell_type": "markdown",
      "metadata": {},
      "source": [
        "**(b) If $ X∼Exp⁡(λ) $, compute $ M_X (t) $ for every $ t∈R $.** : https://data-hoon.tistory.com/entry/%EC%A0%81%EB%A5%A0%EC%83%9D%EC%84%B1%ED%95%A8%EC%88%98-mgf\n",
        "\n",
        "$$ M_X{(t)} = E(e^{tX}) = \\int_{0}^{\\infty}{ e^{tx} \\frac{1}{\\lambda} e^{-\\frac{x}{\\lambda}} dx} = \\int_{0}^{\\infty}{ \\frac{1}{\\lambda} e^{ -( \\frac{1}{\\lambda} - t) x } dx} $$\n",
        "\n",
        "$$ = \\int_{0}^{\\infty}{\\frac{1}{\\lambda} e^{- \\frac{1-\\lambda t}{\\lambda} x} dx} = \\int_{0}^{\\infty}{\\frac{1-\\lambda t}{\\lambda} e^{-\\frac{1-\\lambda t}{\\lambda} x} \\frac{1}{1-\\lambda t} dx} $$\n",
        "\n",
        "\n",
        "Consider the probability density function (PDF) of the exponential distribution with parameters $ N(\\mu+\\sigma^2t, \\sigma^2) $,\n",
        "\n",
        "$$ ∴ \\;  M_X{(t)} = E(e^{tX}) = \\frac{1}{1-\\lambda t} $$"
      ]
    },
    {
      "cell_type": "markdown",
      "metadata": {},
      "source": [
        "**(c) If $ X∼N(μ,σ^2 ) $ compute $ M_X (t) $ for all $ t∈R $.** : https://hsm-edu.tistory.com/1387\n",
        "\n",
        "$$ M_X(t) = Ee^{tx} = \\int^∞_{-∞} e^{tx} f(x) dx $$\n",
        "\n",
        "If $ X∼N(μ,σ^2 ) $,\n",
        "\n",
        "$$ f(x)=\\frac{1}{\\sigma \\sqrt{2\\pi}}e^{-\\frac{1}{2}\\left ( \\frac{x-\\mu}{\\sigma} \\right )^{2}} $$\n",
        "\n",
        "$$ M_{X}(t)=\\int_{-\\infty}^{\\infty}e^{tx}\\frac{1}{\\sigma \\sqrt{2\\pi}}e^{-\\frac{1}{2}\\left ( \\frac{x-\\mu}{\\sigma} \\right )^{2}}dx \n",
        "\n",
        "=\\int_{-\\infty}^{\\infty}\\frac{1}{\\sqrt{2\\pi}\\sigma}e^{\\frac{2xt\\sigma^2}{2\\sigma^2}-\\frac{(x-\\mu)^2}{2\\sigma^2}}dx $$\n",
        "\n",
        "To simplify expression, ± $ -2(x-\\mu)\\sigma^2t+(\\sigma^2t)^2 $,\n",
        "\n",
        "$$ = \\int_{-\\infty}^{\\infty}\\frac{1}{\\sqrt{2\\pi}\\sigma}e^{\\frac{2xt\\sigma^2}{2\\sigma^2}-\\frac{(x-\\mu)^2-2(x-\\mu)\\sigma^2t+(\\sigma^2t)^2+2(x-\\mu)\\sigma^2t-(\\sigma^2t)^2}{2\\sigma^2}} dx $$\n",
        "\n",
        "Separate the expression unrelated to $ x $,\n",
        "\n",
        "$$ M_{X}(t)=E(e^{tx})=e^{ \\frac{2\\mu t+ \\sigma^2 t^2   }{2} }\\int_{-\\infty}^{\\infty}\\frac{1}{\\sqrt{2\\pi}\\sigma} e^{ -\\frac{\\left(x-\\mu-\\sigma^2t \\right)^2}{2\\sigma^2} } dx = e^{ \\frac{2\\mu t+ \\sigma^2 t^2   }{2} }\\int_{-\\infty}^{\\infty}\\frac{1}{\\sqrt{2\\pi}\\sigma} e^{ -\\frac{\\left(x-(\\mu+\\sigma^2t) \\right)^2}{2\\sigma^2} } dx $$ \n",
        "\n",
        "Consider the probability density function (PDF) of the normal distribution with parameters $ N(\\mu+\\sigma^2t, \\sigma^2) $,\n",
        "\n",
        "$$ ∴ \\; M_{X}(t)=E(e^{tx})=e^{ \\frac{2\\mu t+ \\sigma^2 t^2   }{2} } $$"
      ]
    },
    {
      "cell_type": "markdown",
      "metadata": {},
      "source": [
        "----\n"
      ]
    },
    {
      "cell_type": "markdown",
      "metadata": {},
      "source": [
        "### Problem 2. Covariance and Independence"
      ]
    },
    {
      "cell_type": "markdown",
      "metadata": {},
      "source": [
        "Let $ X,Y $ be two random variables. Recall the covariance $ cov⁡(X,Y) $ is defined by $ cov⁡(X,Y)=E(XY)-(EX)(EY) $. Two random variables are called uncorrelated if $ cov⁡(X,Y)=0 $.\n",
        "\n",
        "(a) If $ a,b,c,d∈R $, compute $ cov⁡(aX+b,cY+d) $ in terms of $ cov⁡(X,Y) $ and $ a,b,c $ and $ d $.\n",
        "\n",
        "(b) Show that independent random variables are uncorrelated.\n",
        "\n",
        "(c) Show by example that uncorrelated random variables need not be independent.\n",
        "\n",
        "(d) If $ (X,Y) $ is jointly normal and $ X $ and $ Y $ are uncorrelated, must $ X $ and $ Y $ be independent? Justify. [Do more than simply quote a theorem.]\n"
      ]
    },
    {
      "cell_type": "markdown",
      "metadata": {},
      "source": [
        "### Solution 2."
      ]
    },
    {
      "cell_type": "markdown",
      "metadata": {},
      "source": [
        "**(a) If $ a,b,c,d∈R $, compute $ cov⁡(aX+b,cY+d) $ in terms of $ cov⁡(X,Y) $ and $ a,b,c $ and $ d $.**\n",
        "\n",
        "Let $ X' = aX + b $ and $ Y' = cY + d$,\n",
        "\n",
        "$$ cov⁡(aX+b,cY+d) = E((aX+b) * (cY+d)) - E(aX+b)*E(cY+d) $$\n",
        "\n",
        "By *(Linearity)*, $ E(X + αY) = EX + αEY $,\n",
        "\n",
        "$$ = E(acXY + adX + bcY + bd) - (aE(X) + b)*(cE(Y) + d) $$ \n",
        "\n",
        "$$ = acE(XY) + adE(X) + bcE(Y) + bd - acE(X)E(Y) - adE(X) - bcE(Y) - bd $$\n",
        "\n",
        "$$ = acE(XY) - acE(X)E(Y) = ac * cov(X, Y) $$"
      ]
    },
    {
      "cell_type": "markdown",
      "metadata": {},
      "source": [
        "**(b) Show that independent random variables are uncorrelated.**\n",
        "\n",
        "If $X, Y$ are independent random variables satisfy then, $E(XY) = E(X)E(Y) $\n",
        "\n",
        "$$ cov(X, Y) = E(XY) - E(X)E(Y) = 0 $$\n",
        "\n",
        "∴ $X, Y$ are uncorrleated"
      ]
    },
    {
      "cell_type": "markdown",
      "metadata": {},
      "source": [
        "**(c) Show by example that uncorrelated random variables need not be independent.**\n",
        "\n",
        "\n",
        "Let $ X $ be $ N(0,1) $ and $ Y=X^2 $.\n",
        "\n",
        "Then $ E(XY)=E(X^3)=0=E(X)E(Y) $, so $ X $ and $ Y $ are uncorrelated, \n",
        "\n",
        "but they aren't independent \n",
        "\n",
        "ex. $ P(XY) = P(0<X<1,Y>1) = 0 \\neq P(X)P(Y) = P(0<X<1)P(Y>1) $\n",
        "\n",
        "\n",
        "\\* More : $ E(X^3) = \\int_{-\\infty}^{\\infty} x^3 \\cdot \\frac{1}{\\sqrt{2\\pi}} e^{-\\frac{x^2}{2}} \\,dx = 0 $"
      ]
    },
    {
      "cell_type": "markdown",
      "metadata": {},
      "source": [
        "**(d) If $ (X,Y) $ is jointly normal and $ X $ and $ Y $ are uncorrelated, must $ X $ and $ Y $ be independent? Justify. [Do more than simply quote a theorem.]**\n",
        "\n",
        "If $ (X, Y) $ IS *jointly normal* and $ X, Y $ are *uncorrelated*, then the ***normal correlation theorem*** guarantees that $X, Y$ are independent."
      ]
    },
    {
      "cell_type": "markdown",
      "metadata": {},
      "source": [
        "---"
      ]
    },
    {
      "cell_type": "markdown",
      "metadata": {},
      "source": [
        "### Problem 3. Brownian Motion and Martingale"
      ]
    },
    {
      "cell_type": "markdown",
      "metadata": {},
      "source": [
        "Let $ W $ be a Brownian motion and $ F_t=F_t^W $ be the Brownian filtration. \n",
        "\t\n",
        "(a) If $ s<t $, compute $ E(W(t)^3∣F_s ) $.\n",
        "\t\n",
        "(b) Given $ λ∈R $, find α so that the process $ M(t)=exp⁡(λW(t)-αt) $ is a martingale.\n"
      ]
    },
    {
      "cell_type": "markdown",
      "metadata": {},
      "source": [
        "### Solution 3."
      ]
    },
    {
      "cell_type": "markdown",
      "metadata": {},
      "source": [
        "**(a) If $ s<t $, compute $ E(W(t)^3∣F_s ) $.**\n",
        "\n",
        "- $ W $ is a standard Brownian motion, and $ s < t $. Then,\n",
        "    - (1) $ W(s) $ ~ $ N(0, s)$\n",
        "    - (2) $ W(t) - W(s) $ ~ $ N(0, t-s) $ \n",
        "    - (3) $ W(t) - W(s) $ is independent of $ W(s) $\n",
        "\n",
        "$$ E(W(t)^3∣F_s ) = E((W_s + W_t-W_s)^3 | \\mathcal{F}_s) $$\n",
        "\n",
        "$$ = E(((W_s + W_t)-W_s)^3 | \\mathcal{F}_s) = E(W_s^3 + 3W_s^2(W_t-W_s)+3W_s(W_t-W_s)^2+(W_t-W_s)^3|\\mathcal{F}_s) $$\n",
        "\n",
        "$$ = E(W_s^3|\\mathcal{F}_s) + E(3W_s^2(W_t-W_s)|\\mathcal{F}_s) + E(3W_s(W_t-W_s)^2|\\mathcal{F}_s) + E((W_t-W_s)^3|\\mathcal{F}_s) $$\n",
        "\n",
        "$$ = E(W_s^3|\\mathcal{F}_s) + 3*E(W_s^2|\\mathcal{F}_s) * E((W_t-W_s)|\\mathcal{F}_s) + E(3W_s(W_t-W_s)^2|\\mathcal{F}_s) + E((W_t-W_s)^3|\\mathcal{F}_s) \\; ((3) \\; is \\; applied) $$\n",
        "\n",
        "\n",
        "\n",
        "$$ = W_s^3 + 3W_s^2E(W_t-W_s |\\mathcal{F}_s)+ 3W_sE((W_t-W_s)^2|\\mathcal{F}_s) + E((W_t-W_s)^3|\\mathcal{F}_s) $$\n",
        "\n",
        "$$ = W_s^3 + 0\\ + 3W_s(t-s)+E((W_t-W_s)^3|\\mathcal{F}_s) \\; ((4) \\; is \\; applied) $$\n",
        "\n",
        "$$ =W_s^3 + 3W_s(t-s)+E((W_t-W_s)^3|\\mathcal{F}_s) $$\n",
        "\n",
        "$$ ∴ \\; E(W(t)^3|\\mathcal{F}_s) = W_s^3 + 3(t-s)W_s $$\n",
        "\n",
        "\\* More \n",
        "\n",
        "- (4) $ E[(W_t − W_s)^2|F_s] = Var(W_t - W_s|F_s) + (E[W_t - W_s|F_s])^2 = t − s $ \n",
        "\n",
        "ref. https://www.researchgate.net/profile/Paolo-Vanini-2/publication/316595363_Stochastic_Analysis_IV_Brownian_Motion/links/5945924a0f7e9b6910f440eb/Stochastic-Analysis-IV-Brownian-Motion.pdf\n",
        "\n",
        "- (5) $ E[(W_t-W_s)^3|\\mathcal{F}_s] = 0 $\n",
        "\n",
        "ref. https://math.stackexchange.com/questions/4673593/conditional-expectation-of-w-t3\n",
        "\n",
        "(Q. $ W_s $ and $ (W_s - W_t) ^ 2 $ are independent?)"
      ]
    },
    {
      "cell_type": "markdown",
      "metadata": {},
      "source": [
        "**(b) Given $ λ∈R $, find α so that the process $ M(t)=exp⁡(λW(t)-αt) $ is a martingale.**\n",
        "\n",
        "- By DEFINITION 6.6, A stochastic process $ M $ is a martingale with respect to a filtration $ {F_t} $ if:\n",
        "\n",
        "    For any $ s < t $ we have $ E(M(t) | F_s) = M(s) $, almost surely\n",
        "\n",
        "$$ E(M(t) | F_s) = E(e^{λW(t)-αt}|F_s) $$\n",
        "\n",
        "$$ = E\\left[e^{\\left(\\lambda(W(t)-W(s))+\\lambda W(s)-αt\\right)}|F_s\\right] $$\n",
        "\n",
        "$$ =e^{ (\\lambda W(s)-αt) } * E\\left[e^{ (\\lambda(W(t)-W(s))) }|F_s\\right] $$\n",
        "\n",
        "$ E\\left[e^{ (\\lambda(W(t)-W(s))) }|F_s\\right] = M_{(W(t) - W(t))} (\\lambda) = e^{ \\frac{ (t-s)^2 \\lambda^2   }{2} } $ (∵ $ \\; M_{X}(t)=E(e^{tx})=e^{ \\frac{2\\mu t+ \\sigma^2 t^2   }{2} } $)\n",
        "\n",
        "$$ =e^{ (\\lambda W(s)-αt) } * e^{ \\frac{ (t-s) \\lambda^2   }{2} } = M(s) = e^{λW(s)-αs}$$\n",
        "\n",
        "$$ ∴ \\; α = \\frac{\\lambda^2}{2} $$"
      ]
    },
    {
      "cell_type": "markdown",
      "metadata": {},
      "source": [
        "---"
      ]
    },
    {
      "cell_type": "markdown",
      "metadata": {},
      "source": [
        "### Problem 4. Normal Random Variables"
      ]
    },
    {
      "cell_type": "markdown",
      "metadata": {},
      "source": [
        "Let $ Y $ be a standard normal random variable, and let $ K∈R $.\n",
        "\n",
        "(a) For any $ x∈R $ let $ g(x) \\stackrel{\\text{def}}{=} E((e^{(x+Y)}-K)^+ ) $. Express $ g $ explicitly in terms of the cumulative normal distribution function\n",
        "\n",
        "$$ N(d) \\stackrel{\\text{def}}{=} \\frac{1}{\\sqrt{2π}} ∫_{-∞}^d   e^{-\\frac{1}{2} ξ^2 } dξ, $$\n",
        "\n",
        "for two different values of $ d $. [Your answer will look something like the Black-Scholes formula.]\n",
        "\n",
        "(b) Suppose now $ X $ is another standard normal random variable that is independent of $ Y $. Compute $ E((e^{(X+Y)}-K)^+∣X)(ω) $. [Even though the variable $ ω $ is usually suppressed from all formulae, include it explicitly in this problem for clarity. Recall that $ E((e^{(X+Y)}-K)^+∣X) $ is shorthand for $ E((e^{(X+Y)}-K)^+∣σ(X)) $ .]"
      ]
    },
    {
      "cell_type": "markdown",
      "metadata": {},
      "source": [
        "### Solution 4."
      ]
    }
  ],
  "metadata": {
    "kernelspec": {
      "display_name": "fba",
      "language": "python",
      "name": "python3"
    },
    "language_info": {
      "codemirror_mode": {
        "name": "ipython",
        "version": 3
      },
      "file_extension": ".py",
      "mimetype": "text/x-python",
      "name": "python",
      "nbconvert_exporter": "python",
      "pygments_lexer": "ipython3",
      "version": "3.7.16"
    },
    "orig_nbformat": 4
  },
  "nbformat": 4,
  "nbformat_minor": 2
}
