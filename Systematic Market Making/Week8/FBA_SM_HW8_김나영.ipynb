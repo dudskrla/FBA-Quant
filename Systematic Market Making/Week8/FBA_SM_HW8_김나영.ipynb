{
  "cells": [
    {
      "cell_type": "markdown",
      "metadata": {},
      "source": [
        "# [HW8] FBA QUANT - SYSTEMATIC MARKET MAKING"
      ]
    },
    {
      "cell_type": "markdown",
      "metadata": {},
      "source": [
        "Kim Na Young (dudskrla09@gmail.com)"
      ]
    },
    {
      "cell_type": "markdown",
      "metadata": {},
      "source": [
        "---"
      ]
    },
    {
      "cell_type": "markdown",
      "metadata": {},
      "source": [
        "### Problem 1. \n"
      ]
    },
    {
      "cell_type": "markdown",
      "metadata": {},
      "source": [
        "Implement Approximate Policy Iteration, generalization of the tabular Policy Iteration we covered in the previous class. In order to implement Approximate Policy Iteration, first review the interface and implementation of Approximate Policy Evaluation and Approximate Value Iteration (in file rl/approximate_dynamic_programming.py), then design the interface of Approximate Policy Iteration to be the same as that of Approximate Value Iteration. Note that your implementation of Approximate Policy Iteration would need to invoke Approximate Policy Evaluation since Policy Evaluation is a component of Policy Iteration. Test that your implementation is correct in two ways:\n",
        "- \tEnsure that Approximate Policy Iteration gives the same Optimal Value Function/Optimal Policy as that obtained by Approximate Value Iteration.\n",
        "- \tEnsure that Approximate Policy Iteration produces the same result as our prior implementation of Policy Iteration (in file rl/dynamic_programming.py). For this you need to pass to your implementation of Approximate Policy Iteration a FiniteMarkovDecisionProcess input and a Tabular instance for the FunctionApprox input.\n"
      ]
    },
    {
      "cell_type": "markdown",
      "metadata": {},
      "source": [
        "### Solution 1."
      ]
    },
    {
      "cell_type": "markdown",
      "metadata": {},
      "source": [
        "----\n"
      ]
    },
    {
      "cell_type": "markdown",
      "metadata": {},
      "source": [
        "### Problem 2."
      ]
    },
    {
      "cell_type": "markdown",
      "metadata": {},
      "source": [
        "Assume the Utility function is $ U(x)=x-(αx^2)/2. $ Assuming $ x∼N(μ,σ^2 ), $ calculate:\n",
        "- Expected Utility $ E[U(x)] $ \n",
        "- Certainty-Equivalent Value $ x_{CE} $\n",
        "- Absolute Risk-Premium $ π_A $\n",
        "\n",
        "Assume you have a million dollars to invest for a year and you are allowed to invest z dollars in a risky asset whose annual return on investment is $ N(μ,σ^2 ) $ and the remaining (a million minus z dollars) would need to be invested in a riskless asset with fixed annual return on investment of r. You are not allowed to adjust the quantities invested in the risky and riskless assets after your initial investment decision at time t=0 (static asset allocation problem). If your risk-aversion is based on this Utility function, how much would you invest in the risky asset? In other words, what is the optimal value for z, given your level of risk-aversion (determined by a fixed value of α )?\n",
        "\n",
        "Plot how the optimal value of z varies with α.\n"
      ]
    },
    {
      "cell_type": "markdown",
      "metadata": {},
      "source": [
        "### Solution 2."
      ]
    },
    {
      "cell_type": "markdown",
      "metadata": {},
      "source": [
        "- 1) Expected Utility $E[U(x)]$\n",
        "$$ U = x - \\frac{\\alpha x^2}{2}$$\n",
        "$$E[U(x)] = E[x - \\frac{\\alpha x^2}{2}] = E[x] - \\frac{\\alpha}{2}E[x^2]$$\n",
        "$$E[x^2] = Var(x) + (E[x])^2$$\n",
        "$$E[U(x)] = \\mu - \\frac{\\alpha}{2}(\\sigma^2 + \\mu^2)$$\n",
        "\n",
        "- 2) Certainty-Equivalent Value $x_{CE} = U^{-1}(E[U(x)])$\n",
        "$$ U = x - \\frac{\\alpha x^2}{2}$$\n",
        "Get the inverse of U\n",
        "$$ x = U^{-1} - \\frac{\\alpha (U^{-1})^2}{2} $$\n",
        "$$ (U^{-1})^2 - \\frac{2}{\\alpha} U^{-1} = - \\frac{2}{\\alpha} x $$\n",
        "Complete the Square:\n",
        "$$ (U^{-1})^2 - \\frac{2}{\\alpha} U^{-1} + \\frac{1}{\\alpha^2} = -\\frac{2}{\\alpha} x + \\frac{1}{\\alpha^2} $$\n",
        "\n",
        "$$ (U^{-1} - \\frac{1}{\\alpha})^2 = \\frac{1 - 2x\\alpha}{\\alpha^2} $$\n",
        "\n",
        "$$ U^{-1} = \\frac{1}{\\alpha} \\pm \\sqrt{\\frac{1 - 2x\\alpha}{\\alpha^2}} $$\n",
        "\n",
        "$$ U^{-1} = \\frac{1}{\\alpha} (1 \\pm \\sqrt{{1 - 2x\\alpha}}) $$\n",
        "\n",
        "Substitute $E[U(x)]$ in for x:\n",
        "$$ x_{CE} = \\frac{1}{\\alpha} (1 \\pm \\sqrt{{1 - 2\\alpha\\mu + \\alpha^2\\mu^2 + \\alpha^2\\sigma^2}}) $$\n",
        "\n",
        "$$ x_{CE} = \\frac{1}{\\alpha} (1 \\pm \\sqrt{{(1 - \\alpha\\mu)^2 + \\alpha^2\\sigma^2}}) $$\n",
        "\n",
        "\n",
        "이때, $ U(x_{CE}) = E[U(x)] < U(E[x]) $ 이므로, $ x_{CE} < E[x] = \\mu $ 이어야 한다. \n",
        "\n",
        "따라서, \n",
        "$$ x_{CE} = \\frac{1}{\\alpha} (1 - \\sqrt{{(1 - \\alpha\\mu)^2 + \\alpha^2\\sigma^2}}) $$\n",
        "\n",
        "- 3) the Absolute Risk Premium $\\pi_A$\n",
        "$$ \\pi_A = E[x] - x_{CE} = \\mu - \\frac{1}{\\alpha} (1 - \\sqrt{{(1 - \\alpha\\mu)^2 + \\alpha^2\\sigma^2}}) $$\n",
        "\n",
        "- 4) What is the optimal investment z to invest in the risky asset given the level of risk aversion?\n",
        "    - Given $U(x) = x - \\frac{\\alpha x^2}{2}$\n",
        "    - Given 1,000,000 dollars to invest<br>\n",
        "    - Given a Riskless asset with fixed annual return r <br>\n",
        "    - Given a Risky asset with annual return $x$ ~ $N(\\mu,\\sigma^2)$ <br>\n",
        "\n",
        "By CARA (Constant Absolute Risk-Aversion), \n",
        "\n",
        "Wealth W is given by W ~ $N(1,000,000 + r + z(\\mu - r), z^2 \\sigma^2)$ (Let, d = 1,000,000) <br>\n",
        "\n",
        "$$ U(W) = N(d + r + z(\\mu - r), z^2 \\sigma^2) - \\frac{\\alpha}{2}[N(d + r + z(\\mu - r), z^2 \\sigma^2))^2]$$\n",
        "$$ E[U(W)] = d + r + z(\\mu - r) - \\frac{\\alpha}{2}[(d + r + z(\\mu - r))^2 + z^2 \\sigma^2]$$\n",
        "$$ \\frac{dE[U(W)]}{dz} = (\\mu - r) - \\alpha \\sigma^2 z - \\alpha (\\mu - r) (d + r + z(\\mu - r) $$\n",
        "\n",
        "To maximize $ E[U(W)] $, set $\\frac{dE[U(W)]}{dz} = 0 $\n",
        "\n",
        "$$ 0 = (\\mu - r) - \\alpha \\sigma^2 z - \\alpha (\\mu - r) (d + r + z(\\mu - r) $$\n",
        "$$ 0 = (\\mu - r) - \\alpha \\sigma^2 z - \\alpha d (\\mu - r) - \\alpha r (\\mu - r) - z \\alpha (\\mu - r)^2  $$\n",
        "$$ 0 = (\\mu - r)(1 - \\alpha d - \\alpha r) - z \\alpha (\\mu - r)^2 - z \\alpha $$\n",
        "$$ z \\alpha (\\mu - r)^2 + z \\alpha \\sigma^2 = (\\mu - r)(1 - \\alpha d - \\alpha r) $$\n",
        "$$ z \\alpha ((\\mu - r)^2 + \\sigma^2) = (\\mu - r)(1 - \\alpha (d + r)) $$\n",
        "$$ z = \\frac{(\\mu - r)(1 - \\alpha (d + r))}{\\alpha ((\\mu - r)^2 + \\sigma^2)} $$\n",
        "\n",
        "Given z > 0 <br> \n",
        "$$ \\frac{(\\mu - r)(1 - \\alpha (d + r))}{\\alpha ((\\mu - r)^2 + \\sigma^2)} \\gt 0$$\n",
        "$$ 1 - \\alpha (d + r) \\gt 0$$\n",
        "$$ \\frac{1}{d + r} \\gt \\alpha$$\n",
        "$$ \\alpha \\lt \\frac{1}{d + r} $$\n",
        "\n",
        "Given z < 1 <br>\n",
        "$$ \\frac{(\\mu - r)(1 - \\alpha (d + r))}{\\alpha ((\\mu - r)^2 + \\sigma^2)} \\lt 1$$\n",
        "$$ (\\mu - r) - \\alpha (d + r)(\\mu - r) \\lt \\alpha ((\\mu - r)^2 + \\sigma^2)$$\n",
        "$$ (\\mu - r) \\lt \\alpha ((\\mu - r)^2 + \\sigma^2) + \\alpha (d + r)(\\mu - r)$$\n",
        "$$ (\\mu - r) \\lt \\alpha [(\\mu - r)^2 + \\sigma^2 + (d + r)(\\mu - r)]$$\n",
        "$$ \\frac{(\\mu - r)}{(\\mu - r)^2 + \\sigma^2 + (d + r)(\\mu - r)} \\lt \\alpha $$\n",
        "\n",
        "Limits of $\\alpha$\n",
        "$$ \\frac{(\\mu - r)}{(\\mu - r)^2 + \\sigma^2 + (d + r)(\\mu - r)} \\lt \\alpha \\lt \\frac{1}{d + r} $$"
      ]
    },
    {
      "cell_type": "code",
      "execution_count": 14,
      "metadata": {},
      "outputs": [
        {
          "data": {
            "image/png": "[encoded data removed]",
            "text/plain": [
              "<Figure size 640x480 with 1 Axes>"
            ]
          },
          "metadata": {},
          "output_type": "display_data"
        }
      ],
      "source": [
        "import numpy as np\n",
        "import matplotlib.pyplot as plt\n",
        "\n",
        "def make_plot(money, r, mu, sigma):\n",
        "    points = 100\n",
        "    alpha_lower = (mu - r) / ((mu - r)**2 + sigma**2 + ((money + r)*(mu - r)))\n",
        "    alpha_upper = 1. / (money + r)\n",
        "    alphas = np.linspace(alpha_lower, alpha_upper, points)\n",
        "    optimal_z = np.zeros(points)\n",
        "    for i, alpha in enumerate(alphas):\n",
        "        numerator = (mu - r) * (1 - (alpha * (money + r)))\n",
        "        denominator = alpha*((mu-r)**2 + sigma**2)\n",
        "        optimal_z[i] = numerator / denominator\n",
        "\n",
        "    fig, ax = plt.subplots()\n",
        "    ax.plot(alphas, optimal_z)\n",
        "    ax.set_xlabel('alpha')\n",
        "    ax.set_ylabel('z')\n",
        "    ax.set_title(r'The optimal value of z with alpha')\n",
        "    ax.set_xlim(xmax = alpha_upper, xmin = alpha_lower)\n",
        "    plt.show()\n",
        "\n",
        "\n",
        "make_plot(100000,10,20,2)"
      ]
    },
    {
      "cell_type": "markdown",
      "metadata": {},
      "source": [
        "---"
      ]
    },
    {
      "cell_type": "markdown",
      "metadata": {},
      "source": [
        "### Problem 3. "
      ]
    },
    {
      "cell_type": "markdown",
      "metadata": {},
      "source": [
        "Assume you are playing a casino game where at every turn, if you bet a quantity x, you will be returned $ x⋅(1+α) $ with probability p and returned $ x⋅(1-β) $ with probability $ q=1-p $ for $ α,β∈R^+ $ (i.e., the return on bet is α with probability p and -β with probability $ q=1-p $). The problem is to identify a betting strategy that will maximize one's expected wealth over the long run. The optimal solution to this problem is known as the Kelly criterion, which involves betting a constant fraction of one's wealth at each turn (let us denote this optimal fraction as $ f^* $).\n",
        "It is known that the Kelly criterion (formula for $ f^* $) is equivalent to maximizing the Expected Utility of Wealth after a single bet, with the Utility function defined as: $ U(W)=log⁡(W).$ Denote your wealth before placing the single bet as $ W_0.$ Let f be the fraction (to be solved for) of $ W_0 $ that you will bet. Therefore, your bet is $ f⋅W_0. $\n",
        "- Write down the two outcomes for wealth W at the end of your single bet of $ f⋅W_0. $\n",
        "- Write down the two outcomes for log (Utility) of W.\n",
        "- Write down $ E[log⁡(W)]. $\n",
        "- Take the derivative of $ E[log⁡(W)] $ with respect to f.\n",
        "- Set this derivative to 0 to solve for $ f^*. $ Verify that this is indeed a maxima by evaluating the second derivative at $ f^*. $ This formula for $ f^* $ is known as the Kelly Criterion.\n",
        "- Convince yourself that this formula for $ f^* $ makes intuitive sense (in terms of it's dependency on α,β and p ).\n"
      ]
    },
    {
      "cell_type": "markdown",
      "metadata": {},
      "source": [
        "### Solution 3."
      ]
    },
    {
      "cell_type": "markdown",
      "metadata": {},
      "source": [
        "Given the returns after a single bet: <br>\n",
        "$\\quad$ $x(1 + \\alpha)$   with probability p <br>\n",
        "$\\quad$ $x(1 - \\beta)$    with probability q <br>\n",
        "\n",
        "- 1) Write down the two outcomes for wealth W at the end of your single bet of $ f⋅W_0. $\n",
        "\n",
        "Given your wealth $W_0$, the two outcomes for your bet of $fW_0$ are: <br>\n",
        "$\\quad$ $W_0(1 + \\alpha f)$ <br>\n",
        "$\\quad$ $W_0(1 - \\beta f)$ <br>\n",
        "\n",
        "- 2) Write down the two outcomes for log (Utility) of W.\n",
        "\n",
        "Given $U(x) = log(x)$, the two outcomes of $U(W_0)$ are: <br>\n",
        "$\\quad$ $log(W_0(1 + \\alpha f))$ <br>\n",
        "$\\quad$ $log(W_0(1 - \\beta f))$ <br>\n",
        "\n",
        "- 3) Write down $ E[log⁡(W)]. $\n",
        "\n",
        "$ E[log⁡(W)] = p * log(W_0(1 + \\alpha f)) + q * log(W_0(1 - \\beta f)) $ <br>\n",
        "\n",
        "- 4) Take the derivative of $ E[log⁡(W)] $ with respect to f.\n",
        "\n",
        "The derivative of the expected value of $ E[U(W)] $ with respect to $f$ is: <br>\n",
        "$$ \\frac{dE[U(W)]}{df} = p \\frac{W_0 \\alpha}{W_0(1 + \\alpha f)} - q \\frac{W_0 \\beta}{W_0(1 + \\beta f)} = \\frac{p \\alpha}{1 + \\alpha f} - \\frac{q \\beta}{1 + \\beta f} $$\n",
        "\n",
        "- 5) Set this derivative to 0 to solve for $ f^*. $\n",
        "\n",
        "Set $ \\frac{dE[U(W)]}{df} = 0 $ and solve for $f^*$: <br>\n",
        "$$ \\frac{dE[U(W)]}{df} = \\frac{p \\alpha}{1 + \\alpha f} - \\frac{q \\beta}{1 + \\beta f} = 0 $$\n",
        "$$ p \\alpha (1 + \\beta f) - q \\beta (1 + \\alpha f) = 0 $$\n",
        "$$ p \\alpha - p \\alpha \\beta f - q \\beta - q \\alpha \\beta f = 0 $$\n",
        "$$ \\alpha \\beta f (p + q) = p \\alpha - q \\beta $$\n",
        "\n",
        "Since $ p + q = 1 $ \n",
        "\n",
        "$$ f^* = \\frac{p \\alpha - q \\beta}{\\alpha \\beta} $$"
      ]
    },
    {
      "cell_type": "markdown",
      "metadata": {},
      "source": [
        "---"
      ]
    },
    {
      "cell_type": "markdown",
      "metadata": {},
      "source": [
        "### Problem 4."
      ]
    },
    {
      "cell_type": "markdown",
      "metadata": {},
      "source": [
        "Derive the solution to Merton's Portfolio problem for the case of the log⁡(⋅) Utility function. Note that the derivation in the textbook is for CRRA Utility function with γ≠1 and the case of the log⁡(⋅) Utility function was left as an exercise to the reader."
      ]
    },
    {
      "cell_type": "markdown",
      "metadata": {},
      "source": [
        "### Solution 4."
      ]
    },
    {
      "cell_type": "markdown",
      "metadata": {},
      "source": [
        "From 7.8 A Portfoilo Application of CRRA,\n",
        "\n",
        "$$logW∼N(r+\\pi(\\mu−r)− \\frac{\\pi^2\\sigma^2}{2} ,\\pi^2\\sigma^2)$$\n",
        "\n",
        "To maximize $ E[U(W)] $ = To maximize $ x_{CE} $ = To maximize $ log(x_{CE}) $,\n",
        "\n",
        "$$ x_{CE} = e^{mean + \\frac{std err^2}{2} (1-\\gamma)} = e^{r+\\pi(\\mu−r)− \\frac{\\pi^2\\sigma^2}{2}+\\frac{\\pi^2\\sigma^2(1-\\gamma)}{2}} $$\n",
        "\n",
        "$$ log(x_{CE}) = r+\\pi(\\mu−r)− \\frac{\\pi^2\\sigma^2}{2}+\\frac{\\pi^2\\sigma^2(1-\\gamma)}{2}$$\n",
        "\n",
        "$$=r+\\pi(\\mu−r)− \\frac{\\pi^2\\sigma^2\\gamma}{2}$$\n",
        "\n",
        "To maximize $ log(x_{CE}) $, we take a derivative of $\\pi$:\n",
        "\n",
        "$$(r+\\pi(\\mu−r)− \\frac{\\pi^2\\sigma^2\\gamma}{2})d\\pi=0$$\n",
        "\n",
        "$$(\\mu−r)− \\pi\\sigma^2\\gamma=0$$\n",
        "\n",
        "$$\\pi^*=\\frac{\\mu−r}{\\gamma\\sigma^2}$$"
      ]
    }
  ],
  "metadata": {
    "kernelspec": {
      "display_name": "fba",
      "language": "python",
      "name": "python3"
    },
    "language_info": {
      "codemirror_mode": {
        "name": "ipython",
        "version": 3
      },
      "file_extension": ".py",
      "mimetype": "text/x-python",
      "name": "python",
      "nbconvert_exporter": "python",
      "pygments_lexer": "ipython3",
      "version": "3.7.16"
    },
    "orig_nbformat": 4
  },
  "nbformat": 4,
  "nbformat_minor": 2
}
